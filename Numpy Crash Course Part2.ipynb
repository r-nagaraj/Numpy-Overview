{
 "cells": [
  {
   "cell_type": "code",
   "execution_count": 7,
   "metadata": {},
   "outputs": [],
   "source": [
    "import numpy as np"
   ]
  },
  {
   "cell_type": "code",
   "execution_count": 8,
   "metadata": {},
   "outputs": [],
   "source": [
    "list1 = [0,1,2,3,4]"
   ]
  },
  {
   "cell_type": "code",
   "execution_count": 10,
   "metadata": {},
   "outputs": [
    {
     "data": {
      "text/plain": [
       "[0, 1, 2, 3, 4]"
      ]
     },
     "execution_count": 10,
     "metadata": {},
     "output_type": "execute_result"
    }
   ],
   "source": [
    "list1"
   ]
  },
  {
   "cell_type": "code",
   "execution_count": 11,
   "metadata": {},
   "outputs": [],
   "source": [
    "arr1d = np.array(list1)"
   ]
  },
  {
   "cell_type": "code",
   "execution_count": 12,
   "metadata": {},
   "outputs": [
    {
     "data": {
      "text/plain": [
       "array([0, 1, 2, 3, 4])"
      ]
     },
     "execution_count": 12,
     "metadata": {},
     "output_type": "execute_result"
    }
   ],
   "source": [
    "arr1d"
   ]
  },
  {
   "cell_type": "code",
   "execution_count": 13,
   "metadata": {},
   "outputs": [],
   "source": [
    "list1.append(5)"
   ]
  },
  {
   "cell_type": "code",
   "execution_count": 14,
   "metadata": {},
   "outputs": [
    {
     "data": {
      "text/plain": [
       "[0, 1, 2, 3, 4, 5]"
      ]
     },
     "execution_count": 14,
     "metadata": {},
     "output_type": "execute_result"
    }
   ],
   "source": [
    "list1"
   ]
  },
  {
   "cell_type": "code",
   "execution_count": 15,
   "metadata": {},
   "outputs": [
    {
     "ename": "TypeError",
     "evalue": "can only concatenate list (not \"int\") to list",
     "output_type": "error",
     "traceback": [
      "\u001b[1;31m---------------------------------------------------------------------------\u001b[0m",
      "\u001b[1;31mTypeError\u001b[0m                                 Traceback (most recent call last)",
      "\u001b[1;32m<ipython-input-15-a66ed14c8eee>\u001b[0m in \u001b[0;36m<module>\u001b[1;34m\u001b[0m\n\u001b[1;32m----> 1\u001b[1;33m \u001b[0mlist1\u001b[0m \u001b[1;33m+\u001b[0m \u001b[1;36m2\u001b[0m\u001b[1;33m\u001b[0m\u001b[1;33m\u001b[0m\u001b[0m\n\u001b[0m",
      "\u001b[1;31mTypeError\u001b[0m: can only concatenate list (not \"int\") to list"
     ]
    }
   ],
   "source": [
    "list1 + 2"
   ]
  },
  {
   "cell_type": "code",
   "execution_count": 16,
   "metadata": {},
   "outputs": [
    {
     "data": {
      "text/plain": [
       "array([2, 3, 4, 5, 6])"
      ]
     },
     "execution_count": 16,
     "metadata": {},
     "output_type": "execute_result"
    }
   ],
   "source": [
    "arr1d + 2"
   ]
  },
  {
   "cell_type": "code",
   "execution_count": 17,
   "metadata": {},
   "outputs": [],
   "source": [
    "list2 = [[1, 1, 1], [2, 2 ,2], [3, 3, 3]]\n",
    "arr2d = np.array(list2)"
   ]
  },
  {
   "cell_type": "code",
   "execution_count": 19,
   "metadata": {},
   "outputs": [
    {
     "data": {
      "text/plain": [
       "numpy.ndarray"
      ]
     },
     "execution_count": 19,
     "metadata": {},
     "output_type": "execute_result"
    }
   ],
   "source": [
    "type(arr2d)"
   ]
  },
  {
   "cell_type": "code",
   "execution_count": 20,
   "metadata": {},
   "outputs": [
    {
     "data": {
      "text/plain": [
       "dtype('int32')"
      ]
     },
     "execution_count": 20,
     "metadata": {},
     "output_type": "execute_result"
    }
   ],
   "source": [
    "arr2d.dtype"
   ]
  },
  {
   "cell_type": "code",
   "execution_count": 21,
   "metadata": {},
   "outputs": [],
   "source": [
    "arr2d = np.array(list2, dtype = 'float')"
   ]
  },
  {
   "cell_type": "code",
   "execution_count": 22,
   "metadata": {},
   "outputs": [
    {
     "data": {
      "text/plain": [
       "array([[1., 1., 1.],\n",
       "       [2., 2., 2.],\n",
       "       [3., 3., 3.]])"
      ]
     },
     "execution_count": 22,
     "metadata": {},
     "output_type": "execute_result"
    }
   ],
   "source": [
    "arr2d"
   ]
  },
  {
   "cell_type": "code",
   "execution_count": 25,
   "metadata": {},
   "outputs": [],
   "source": [
    "arr2d = arr2d.astype('int')"
   ]
  },
  {
   "cell_type": "code",
   "execution_count": 26,
   "metadata": {},
   "outputs": [
    {
     "data": {
      "text/plain": [
       "array([['1', '1', '1'],\n",
       "       ['2', '2', '2'],\n",
       "       ['3', '3', '3']], dtype='<U11')"
      ]
     },
     "execution_count": 26,
     "metadata": {},
     "output_type": "execute_result"
    }
   ],
   "source": [
    "arr2d.astype('str')"
   ]
  },
  {
   "cell_type": "code",
   "execution_count": 30,
   "metadata": {},
   "outputs": [],
   "source": [
    "list1.append('6')"
   ]
  },
  {
   "cell_type": "code",
   "execution_count": 31,
   "metadata": {},
   "outputs": [
    {
     "data": {
      "text/plain": [
       "[0, 1, 2, 3, 4, 5, '6']"
      ]
     },
     "execution_count": 31,
     "metadata": {},
     "output_type": "execute_result"
    }
   ],
   "source": [
    "list1"
   ]
  },
  {
   "cell_type": "code",
   "execution_count": null,
   "metadata": {},
   "outputs": [],
   "source": []
  },
  {
   "cell_type": "code",
   "execution_count": 32,
   "metadata": {},
   "outputs": [],
   "source": [
    "np2list = arr2d.tolist()"
   ]
  },
  {
   "cell_type": "code",
   "execution_count": 33,
   "metadata": {},
   "outputs": [
    {
     "data": {
      "text/plain": [
       "[[1, 1, 1], [2, 2, 2], [3, 3, 3]]"
      ]
     },
     "execution_count": 33,
     "metadata": {},
     "output_type": "execute_result"
    }
   ],
   "source": [
    "np2list"
   ]
  },
  {
   "cell_type": "code",
   "execution_count": 34,
   "metadata": {},
   "outputs": [
    {
     "data": {
      "text/plain": [
       "b'\\x01\\x00\\x00\\x00\\x01\\x00\\x00\\x00\\x01\\x00\\x00\\x00\\x02\\x00\\x00\\x00\\x02\\x00\\x00\\x00\\x02\\x00\\x00\\x00\\x03\\x00\\x00\\x00\\x03\\x00\\x00\\x00\\x03\\x00\\x00\\x00'"
      ]
     },
     "execution_count": 34,
     "metadata": {},
     "output_type": "execute_result"
    }
   ],
   "source": [
    "arr2d.tostring()"
   ]
  },
  {
   "cell_type": "code",
   "execution_count": 35,
   "metadata": {},
   "outputs": [
    {
     "data": {
      "text/plain": [
       "b'\\x01\\x00\\x00\\x00\\x01\\x00\\x00\\x00\\x01\\x00\\x00\\x00\\x02\\x00\\x00\\x00\\x02\\x00\\x00\\x00\\x02\\x00\\x00\\x00\\x03\\x00\\x00\\x00\\x03\\x00\\x00\\x00\\x03\\x00\\x00\\x00'"
      ]
     },
     "execution_count": 35,
     "metadata": {},
     "output_type": "execute_result"
    }
   ],
   "source": [
    "arr2d.tobytes()"
   ]
  },
  {
   "cell_type": "code",
   "execution_count": null,
   "metadata": {},
   "outputs": [],
   "source": []
  },
  {
   "cell_type": "markdown",
   "metadata": {},
   "source": [
    "# dtype and shape"
   ]
  },
  {
   "cell_type": "code",
   "execution_count": 36,
   "metadata": {},
   "outputs": [
    {
     "data": {
      "text/plain": [
       "[[1, 1, 1], [2, 2, 2], [3, 3, 3]]"
      ]
     },
     "execution_count": 36,
     "metadata": {},
     "output_type": "execute_result"
    }
   ],
   "source": [
    "list2"
   ]
  },
  {
   "cell_type": "code",
   "execution_count": 38,
   "metadata": {},
   "outputs": [],
   "source": [
    "arr2d = arr2d.astype('float' )"
   ]
  },
  {
   "cell_type": "code",
   "execution_count": 39,
   "metadata": {},
   "outputs": [
    {
     "data": {
      "text/plain": [
       "array([[1., 1., 1.],\n",
       "       [2., 2., 2.],\n",
       "       [3., 3., 3.]])"
      ]
     },
     "execution_count": 39,
     "metadata": {},
     "output_type": "execute_result"
    }
   ],
   "source": [
    "arr2d"
   ]
  },
  {
   "cell_type": "code",
   "execution_count": 40,
   "metadata": {},
   "outputs": [
    {
     "name": "stdout",
     "output_type": "stream",
     "text": [
      "Shape:  (3, 3)\n"
     ]
    }
   ],
   "source": [
    "print('Shape: ', arr2d.shape) # python3\n"
   ]
  },
  {
   "cell_type": "code",
   "execution_count": 41,
   "metadata": {},
   "outputs": [
    {
     "data": {
      "text/plain": [
       "dtype('float64')"
      ]
     },
     "execution_count": 41,
     "metadata": {},
     "output_type": "execute_result"
    }
   ],
   "source": [
    "arr2d.dtype"
   ]
  },
  {
   "cell_type": "code",
   "execution_count": 43,
   "metadata": {},
   "outputs": [
    {
     "data": {
      "text/plain": [
       "9"
      ]
     },
     "execution_count": 43,
     "metadata": {},
     "output_type": "execute_result"
    }
   ],
   "source": [
    "arr2d.size"
   ]
  },
  {
   "cell_type": "code",
   "execution_count": 44,
   "metadata": {},
   "outputs": [
    {
     "data": {
      "text/plain": [
       "5"
      ]
     },
     "execution_count": 44,
     "metadata": {},
     "output_type": "execute_result"
    }
   ],
   "source": [
    "arr1d.size"
   ]
  },
  {
   "cell_type": "code",
   "execution_count": 45,
   "metadata": {},
   "outputs": [
    {
     "data": {
      "text/plain": [
       "2"
      ]
     },
     "execution_count": 45,
     "metadata": {},
     "output_type": "execute_result"
    }
   ],
   "source": [
    "arr2d.ndim"
   ]
  },
  {
   "cell_type": "code",
   "execution_count": 46,
   "metadata": {},
   "outputs": [
    {
     "data": {
      "text/plain": [
       "1"
      ]
     },
     "execution_count": 46,
     "metadata": {},
     "output_type": "execute_result"
    }
   ],
   "source": [
    "arr1d.ndim"
   ]
  },
  {
   "cell_type": "code",
   "execution_count": null,
   "metadata": {},
   "outputs": [],
   "source": []
  },
  {
   "cell_type": "code",
   "execution_count": 50,
   "metadata": {},
   "outputs": [],
   "source": [
    "arr1d = arr1d * arr1d"
   ]
  },
  {
   "cell_type": "code",
   "execution_count": 51,
   "metadata": {},
   "outputs": [
    {
     "data": {
      "text/plain": [
       "array([ 4,  9,  0,  1, 36], dtype=int32)"
      ]
     },
     "execution_count": 51,
     "metadata": {},
     "output_type": "execute_result"
    }
   ],
   "source": [
    "arr1d"
   ]
  },
  {
   "cell_type": "code",
   "execution_count": 55,
   "metadata": {},
   "outputs": [
    {
     "data": {
      "text/plain": [
       "9"
      ]
     },
     "execution_count": 55,
     "metadata": {},
     "output_type": "execute_result"
    }
   ],
   "source": [
    "arr1d[1]"
   ]
  },
  {
   "cell_type": "code",
   "execution_count": 60,
   "metadata": {},
   "outputs": [
    {
     "data": {
      "text/plain": [
       "2.0"
      ]
     },
     "execution_count": 60,
     "metadata": {},
     "output_type": "execute_result"
    }
   ],
   "source": [
    "arr2d[1][0] #[R][C]"
   ]
  },
  {
   "cell_type": "code",
   "execution_count": 59,
   "metadata": {},
   "outputs": [
    {
     "data": {
      "text/plain": [
       "array([[1., 1., 1.],\n",
       "       [2., 2., 2.],\n",
       "       [3., 3., 3.]])"
      ]
     },
     "execution_count": 59,
     "metadata": {},
     "output_type": "execute_result"
    }
   ],
   "source": [
    "arr2d"
   ]
  },
  {
   "cell_type": "code",
   "execution_count": null,
   "metadata": {},
   "outputs": [],
   "source": []
  },
  {
   "cell_type": "code",
   "execution_count": 61,
   "metadata": {},
   "outputs": [],
   "source": [
    "boolarr = arr2d<3"
   ]
  },
  {
   "cell_type": "code",
   "execution_count": 62,
   "metadata": {},
   "outputs": [
    {
     "data": {
      "text/plain": [
       "array([[ True,  True,  True],\n",
       "       [ True,  True,  True],\n",
       "       [False, False, False]])"
      ]
     },
     "execution_count": 62,
     "metadata": {},
     "output_type": "execute_result"
    }
   ],
   "source": [
    "boolarr"
   ]
  },
  {
   "cell_type": "code",
   "execution_count": 63,
   "metadata": {},
   "outputs": [
    {
     "data": {
      "text/plain": [
       "array([1., 1., 1., 2., 2., 2.])"
      ]
     },
     "execution_count": 63,
     "metadata": {},
     "output_type": "execute_result"
    }
   ],
   "source": [
    "arr2d[boolarr]"
   ]
  },
  {
   "cell_type": "code",
   "execution_count": null,
   "metadata": {},
   "outputs": [],
   "source": []
  },
  {
   "cell_type": "code",
   "execution_count": 64,
   "metadata": {},
   "outputs": [
    {
     "data": {
      "text/plain": [
       "array([[1., 1., 1.],\n",
       "       [2., 2., 2.],\n",
       "       [3., 3., 3.]])"
      ]
     },
     "execution_count": 64,
     "metadata": {},
     "output_type": "execute_result"
    }
   ],
   "source": [
    "arr2d"
   ]
  },
  {
   "cell_type": "code",
   "execution_count": 65,
   "metadata": {},
   "outputs": [
    {
     "data": {
      "text/plain": [
       "array([[3., 3., 3.],\n",
       "       [2., 2., 2.],\n",
       "       [1., 1., 1.]])"
      ]
     },
     "execution_count": 65,
     "metadata": {},
     "output_type": "execute_result"
    }
   ],
   "source": [
    "arr2d[::-1, ]"
   ]
  },
  {
   "cell_type": "code",
   "execution_count": null,
   "metadata": {},
   "outputs": [],
   "source": []
  },
  {
   "cell_type": "code",
   "execution_count": 66,
   "metadata": {},
   "outputs": [
    {
     "data": {
      "text/plain": [
       "array([[3., 3., 3.],\n",
       "       [2., 2., 2.],\n",
       "       [1., 1., 1.]])"
      ]
     },
     "execution_count": 66,
     "metadata": {},
     "output_type": "execute_result"
    }
   ],
   "source": [
    "arr2d[::-1, ::-1]"
   ]
  },
  {
   "cell_type": "markdown",
   "metadata": {},
   "source": [
    "## np.nan, np.inf"
   ]
  },
  {
   "cell_type": "code",
   "execution_count": 67,
   "metadata": {},
   "outputs": [
    {
     "data": {
      "text/plain": [
       "nan"
      ]
     },
     "execution_count": 67,
     "metadata": {},
     "output_type": "execute_result"
    }
   ],
   "source": [
    "np.nan"
   ]
  },
  {
   "cell_type": "code",
   "execution_count": 68,
   "metadata": {},
   "outputs": [
    {
     "data": {
      "text/plain": [
       "inf"
      ]
     },
     "execution_count": 68,
     "metadata": {},
     "output_type": "execute_result"
    }
   ],
   "source": [
    "np.inf"
   ]
  },
  {
   "cell_type": "code",
   "execution_count": 69,
   "metadata": {},
   "outputs": [
    {
     "data": {
      "text/plain": [
       "array([[1., 1., 1.],\n",
       "       [2., 2., 2.],\n",
       "       [3., 3., 3.]])"
      ]
     },
     "execution_count": 69,
     "metadata": {},
     "output_type": "execute_result"
    }
   ],
   "source": [
    "arr2d"
   ]
  },
  {
   "cell_type": "code",
   "execution_count": 70,
   "metadata": {},
   "outputs": [
    {
     "data": {
      "text/plain": [
       "array([[nan, inf,  1.],\n",
       "       [ 2.,  2.,  2.],\n",
       "       [ 3.,  3.,  3.]])"
      ]
     },
     "execution_count": 70,
     "metadata": {},
     "output_type": "execute_result"
    }
   ],
   "source": [
    "arr2d[0][0] = np.nan\n",
    "arr2d[0][1] = np.inf\n",
    "arr2d"
   ]
  },
  {
   "cell_type": "code",
   "execution_count": 71,
   "metadata": {},
   "outputs": [
    {
     "data": {
      "text/plain": [
       "array([[ True, False, False],\n",
       "       [False, False, False],\n",
       "       [False, False, False]])"
      ]
     },
     "execution_count": 71,
     "metadata": {},
     "output_type": "execute_result"
    }
   ],
   "source": [
    "np.isnan(arr2d)"
   ]
  },
  {
   "cell_type": "code",
   "execution_count": 72,
   "metadata": {},
   "outputs": [
    {
     "data": {
      "text/plain": [
       "array([[False,  True, False],\n",
       "       [False, False, False],\n",
       "       [False, False, False]])"
      ]
     },
     "execution_count": 72,
     "metadata": {},
     "output_type": "execute_result"
    }
   ],
   "source": [
    "np.isinf(arr2d)"
   ]
  },
  {
   "cell_type": "code",
   "execution_count": 73,
   "metadata": {},
   "outputs": [
    {
     "data": {
      "text/plain": [
       "array([[ True,  True, False],\n",
       "       [False, False, False],\n",
       "       [False, False, False]])"
      ]
     },
     "execution_count": 73,
     "metadata": {},
     "output_type": "execute_result"
    }
   ],
   "source": [
    "missing_flag = np.isnan(arr2d) | np.isinf(arr2d)\n",
    "missing_flag"
   ]
  },
  {
   "cell_type": "code",
   "execution_count": 74,
   "metadata": {},
   "outputs": [],
   "source": [
    "#replace inf and nan with 0"
   ]
  },
  {
   "cell_type": "code",
   "execution_count": 75,
   "metadata": {},
   "outputs": [
    {
     "data": {
      "text/plain": [
       "array([nan, inf])"
      ]
     },
     "execution_count": 75,
     "metadata": {},
     "output_type": "execute_result"
    }
   ],
   "source": [
    "arr2d[missing_flag]"
   ]
  },
  {
   "cell_type": "code",
   "execution_count": 76,
   "metadata": {},
   "outputs": [],
   "source": [
    "arr2d[missing_flag] = 0"
   ]
  },
  {
   "cell_type": "code",
   "execution_count": 77,
   "metadata": {},
   "outputs": [
    {
     "data": {
      "text/plain": [
       "array([[0., 0., 1.],\n",
       "       [2., 2., 2.],\n",
       "       [3., 3., 3.]])"
      ]
     },
     "execution_count": 77,
     "metadata": {},
     "output_type": "execute_result"
    }
   ],
   "source": [
    "arr2d"
   ]
  },
  {
   "cell_type": "code",
   "execution_count": null,
   "metadata": {},
   "outputs": [],
   "source": []
  },
  {
   "cell_type": "markdown",
   "metadata": {},
   "source": [
    "# Statistical operations"
   ]
  },
  {
   "cell_type": "code",
   "execution_count": 78,
   "metadata": {},
   "outputs": [],
   "source": [
    "#mean, std, var"
   ]
  },
  {
   "cell_type": "code",
   "execution_count": 79,
   "metadata": {},
   "outputs": [
    {
     "data": {
      "text/plain": [
       "1.7777777777777777"
      ]
     },
     "execution_count": 79,
     "metadata": {},
     "output_type": "execute_result"
    }
   ],
   "source": [
    "arr2d.mean()"
   ]
  },
  {
   "cell_type": "code",
   "execution_count": 80,
   "metadata": {},
   "outputs": [
    {
     "data": {
      "text/plain": [
       "3.0"
      ]
     },
     "execution_count": 80,
     "metadata": {},
     "output_type": "execute_result"
    }
   ],
   "source": [
    "arr2d.max()"
   ]
  },
  {
   "cell_type": "code",
   "execution_count": 81,
   "metadata": {},
   "outputs": [
    {
     "data": {
      "text/plain": [
       "0.0"
      ]
     },
     "execution_count": 81,
     "metadata": {},
     "output_type": "execute_result"
    }
   ],
   "source": [
    "arr2d.min()"
   ]
  },
  {
   "cell_type": "code",
   "execution_count": 82,
   "metadata": {},
   "outputs": [
    {
     "data": {
      "text/plain": [
       "1.1331154474650633"
      ]
     },
     "execution_count": 82,
     "metadata": {},
     "output_type": "execute_result"
    }
   ],
   "source": [
    "arr2d.std()"
   ]
  },
  {
   "cell_type": "code",
   "execution_count": 83,
   "metadata": {},
   "outputs": [
    {
     "data": {
      "text/plain": [
       "1.2839506172839505"
      ]
     },
     "execution_count": 83,
     "metadata": {},
     "output_type": "execute_result"
    }
   ],
   "source": [
    "arr2d.var()"
   ]
  },
  {
   "cell_type": "code",
   "execution_count": 85,
   "metadata": {},
   "outputs": [
    {
     "data": {
      "text/plain": [
       "array([[0., 0., 1.],\n",
       "       [2., 2., 2.],\n",
       "       [3., 3., 3.]])"
      ]
     },
     "execution_count": 85,
     "metadata": {},
     "output_type": "execute_result"
    }
   ],
   "source": [
    "arr2d.squeeze()"
   ]
  },
  {
   "cell_type": "code",
   "execution_count": 86,
   "metadata": {},
   "outputs": [
    {
     "data": {
      "text/plain": [
       "array([ 0.,  0.,  1.,  3.,  5.,  7., 10., 13., 16.])"
      ]
     },
     "execution_count": 86,
     "metadata": {},
     "output_type": "execute_result"
    }
   ],
   "source": [
    "arr2d.cumsum()"
   ]
  },
  {
   "cell_type": "code",
   "execution_count": null,
   "metadata": {},
   "outputs": [],
   "source": []
  },
  {
   "cell_type": "code",
   "execution_count": 87,
   "metadata": {},
   "outputs": [
    {
     "data": {
      "text/plain": [
       "array([[0., 0., 1.],\n",
       "       [2., 2., 2.],\n",
       "       [3., 3., 3.]])"
      ]
     },
     "execution_count": 87,
     "metadata": {},
     "output_type": "execute_result"
    }
   ],
   "source": [
    "arr2d"
   ]
  },
  {
   "cell_type": "code",
   "execution_count": null,
   "metadata": {},
   "outputs": [],
   "source": []
  },
  {
   "cell_type": "code",
   "execution_count": 88,
   "metadata": {},
   "outputs": [],
   "source": [
    "arr = arr2d[:2, :2]"
   ]
  },
  {
   "cell_type": "code",
   "execution_count": 89,
   "metadata": {},
   "outputs": [
    {
     "data": {
      "text/plain": [
       "array([[0., 0.],\n",
       "       [2., 2.]])"
      ]
     },
     "execution_count": 89,
     "metadata": {},
     "output_type": "execute_result"
    }
   ],
   "source": [
    "arr"
   ]
  },
  {
   "cell_type": "code",
   "execution_count": null,
   "metadata": {},
   "outputs": [],
   "source": []
  },
  {
   "cell_type": "code",
   "execution_count": 91,
   "metadata": {},
   "outputs": [
    {
     "data": {
      "text/plain": [
       "array([[2.],\n",
       "       [3.]])"
      ]
     },
     "execution_count": 91,
     "metadata": {},
     "output_type": "execute_result"
    }
   ],
   "source": [
    "arr2d[1:3, 1:2]"
   ]
  },
  {
   "cell_type": "code",
   "execution_count": null,
   "metadata": {},
   "outputs": [],
   "source": []
  },
  {
   "cell_type": "code",
   "execution_count": 92,
   "metadata": {},
   "outputs": [
    {
     "data": {
      "text/plain": [
       "array([[0., 0., 1.],\n",
       "       [2., 2., 2.],\n",
       "       [3., 3., 3.]])"
      ]
     },
     "execution_count": 92,
     "metadata": {},
     "output_type": "execute_result"
    }
   ],
   "source": [
    "arr2d"
   ]
  },
  {
   "cell_type": "raw",
   "metadata": {},
   "source": []
  },
  {
   "cell_type": "code",
   "execution_count": 101,
   "metadata": {},
   "outputs": [
    {
     "data": {
      "text/plain": [
       "array([[0., 0., 1., 2., 2., 2., 3., 3., 3.]])"
      ]
     },
     "execution_count": 101,
     "metadata": {},
     "output_type": "execute_result"
    }
   ],
   "source": [
    "a = arr2d.reshape(1,9)\n",
    "a"
   ]
  },
  {
   "cell_type": "code",
   "execution_count": 100,
   "metadata": {},
   "outputs": [
    {
     "data": {
      "text/plain": [
       "2"
      ]
     },
     "execution_count": 100,
     "metadata": {},
     "output_type": "execute_result"
    }
   ],
   "source": [
    "a.ndim"
   ]
  },
  {
   "cell_type": "code",
   "execution_count": 95,
   "metadata": {},
   "outputs": [
    {
     "data": {
      "text/plain": [
       "array([[0.],\n",
       "       [0.],\n",
       "       [1.],\n",
       "       [2.],\n",
       "       [2.],\n",
       "       [2.],\n",
       "       [3.],\n",
       "       [3.],\n",
       "       [3.]])"
      ]
     },
     "execution_count": 95,
     "metadata": {},
     "output_type": "execute_result"
    }
   ],
   "source": [
    "arr2d.reshape(9,1)"
   ]
  },
  {
   "cell_type": "code",
   "execution_count": null,
   "metadata": {},
   "outputs": [],
   "source": []
  },
  {
   "cell_type": "code",
   "execution_count": 105,
   "metadata": {},
   "outputs": [
    {
     "data": {
      "text/plain": [
       "array([0., 0., 1., 2., 2., 2., 3., 3., 3.])"
      ]
     },
     "execution_count": 105,
     "metadata": {},
     "output_type": "execute_result"
    }
   ],
   "source": [
    "a = arr2d.flatten()\n",
    "a #copy"
   ]
  },
  {
   "cell_type": "code",
   "execution_count": 106,
   "metadata": {},
   "outputs": [
    {
     "data": {
      "text/plain": [
       "array([0., 0., 1., 2., 2., 2., 3., 3., 3.])"
      ]
     },
     "execution_count": 106,
     "metadata": {},
     "output_type": "execute_result"
    }
   ],
   "source": [
    "b = arr2d.ravel()\n",
    "b #reference"
   ]
  },
  {
   "cell_type": "code",
   "execution_count": 107,
   "metadata": {},
   "outputs": [
    {
     "data": {
      "text/plain": [
       "array([[0., 0., 1.],\n",
       "       [2., 2., 2.],\n",
       "       [3., 3., 3.]])"
      ]
     },
     "execution_count": 107,
     "metadata": {},
     "output_type": "execute_result"
    }
   ],
   "source": [
    "arr2d"
   ]
  },
  {
   "cell_type": "code",
   "execution_count": 109,
   "metadata": {},
   "outputs": [],
   "source": [
    "b[0] = -1"
   ]
  },
  {
   "cell_type": "code",
   "execution_count": 110,
   "metadata": {},
   "outputs": [
    {
     "data": {
      "text/plain": [
       "array([[-1.,  0.,  1.],\n",
       "       [ 2.,  2.,  2.],\n",
       "       [ 3.,  3.,  3.]])"
      ]
     },
     "execution_count": 110,
     "metadata": {},
     "output_type": "execute_result"
    }
   ],
   "source": [
    "arr2d"
   ]
  },
  {
   "cell_type": "code",
   "execution_count": null,
   "metadata": {},
   "outputs": [],
   "source": []
  },
  {
   "cell_type": "markdown",
   "metadata": {},
   "source": [
    "# sequence, repetitions, and random numbers "
   ]
  },
  {
   "cell_type": "code",
   "execution_count": 116,
   "metadata": {},
   "outputs": [
    {
     "data": {
      "text/plain": [
       "array([1, 2, 3, 4])"
      ]
     },
     "execution_count": 116,
     "metadata": {},
     "output_type": "execute_result"
    }
   ],
   "source": [
    "np.arange(1, 5, dtype = 'int')"
   ]
  },
  {
   "cell_type": "code",
   "execution_count": 118,
   "metadata": {},
   "outputs": [
    {
     "data": {
      "text/plain": [
       "array([ 1,  3,  5,  7,  9, 11, 13, 15, 17, 19, 21, 23, 25, 27, 29, 31, 33,\n",
       "       35, 37, 39, 41, 43, 45, 47, 49])"
      ]
     },
     "execution_count": 118,
     "metadata": {},
     "output_type": "execute_result"
    }
   ],
   "source": [
    "np.arange(1, 50, 2)"
   ]
  },
  {
   "cell_type": "code",
   "execution_count": null,
   "metadata": {},
   "outputs": [],
   "source": []
  },
  {
   "cell_type": "code",
   "execution_count": 123,
   "metadata": {},
   "outputs": [
    {
     "data": {
      "text/plain": [
       "array([ 1.   ,  7.125, 13.25 , 19.375, 25.5  , 31.625, 37.75 , 43.875,\n",
       "       50.   ])"
      ]
     },
     "execution_count": 123,
     "metadata": {},
     "output_type": "execute_result"
    }
   ],
   "source": [
    "np.linspace(1, 50, 9)"
   ]
  },
  {
   "cell_type": "code",
   "execution_count": null,
   "metadata": {},
   "outputs": [],
   "source": []
  },
  {
   "cell_type": "code",
   "execution_count": 124,
   "metadata": {},
   "outputs": [
    {
     "data": {
      "text/plain": [
       "array([1.00000000e+01, 2.78255940e+06, 7.74263683e+11, 2.15443469e+17,\n",
       "       5.99484250e+22, 1.66810054e+28, 4.64158883e+33, 1.29154967e+39,\n",
       "       3.59381366e+44, 1.00000000e+50])"
      ]
     },
     "execution_count": 124,
     "metadata": {},
     "output_type": "execute_result"
    }
   ],
   "source": [
    "np.logspace(1, 50, 10)"
   ]
  },
  {
   "cell_type": "code",
   "execution_count": null,
   "metadata": {},
   "outputs": [],
   "source": []
  },
  {
   "cell_type": "code",
   "execution_count": 126,
   "metadata": {},
   "outputs": [
    {
     "data": {
      "text/plain": [
       "array([[0., 0.],\n",
       "       [0., 0.]])"
      ]
     },
     "execution_count": 126,
     "metadata": {},
     "output_type": "execute_result"
    }
   ],
   "source": [
    "np.zeros([2,2])"
   ]
  },
  {
   "cell_type": "code",
   "execution_count": 127,
   "metadata": {},
   "outputs": [
    {
     "data": {
      "text/plain": [
       "array([[1., 1.],\n",
       "       [1., 1.]])"
      ]
     },
     "execution_count": 127,
     "metadata": {},
     "output_type": "execute_result"
    }
   ],
   "source": [
    "np.ones([2, 2])"
   ]
  },
  {
   "cell_type": "code",
   "execution_count": null,
   "metadata": {},
   "outputs": [],
   "source": []
  },
  {
   "cell_type": "code",
   "execution_count": 128,
   "metadata": {},
   "outputs": [],
   "source": [
    "a = [1, 2, 3]"
   ]
  },
  {
   "cell_type": "code",
   "execution_count": 129,
   "metadata": {},
   "outputs": [
    {
     "data": {
      "text/plain": [
       "[1, 2, 3]"
      ]
     },
     "execution_count": 129,
     "metadata": {},
     "output_type": "execute_result"
    }
   ],
   "source": [
    "a"
   ]
  },
  {
   "cell_type": "code",
   "execution_count": 130,
   "metadata": {},
   "outputs": [
    {
     "data": {
      "text/plain": [
       "array([1, 2, 3, 1, 2, 3, 1, 2, 3])"
      ]
     },
     "execution_count": 130,
     "metadata": {},
     "output_type": "execute_result"
    }
   ],
   "source": [
    "np.tile(a, 3)"
   ]
  },
  {
   "cell_type": "code",
   "execution_count": 131,
   "metadata": {},
   "outputs": [
    {
     "data": {
      "text/plain": [
       "array([1, 1, 1, 2, 2, 2, 3, 3, 3])"
      ]
     },
     "execution_count": 131,
     "metadata": {},
     "output_type": "execute_result"
    }
   ],
   "source": [
    "np.repeat(a, 3)"
   ]
  },
  {
   "cell_type": "code",
   "execution_count": 132,
   "metadata": {},
   "outputs": [
    {
     "data": {
      "text/plain": [
       "array([-1., -1., -1.,  0.,  0.,  0.,  1.,  1.,  1.,  2.,  2.,  2.,  2.,\n",
       "        2.,  2.,  2.,  2.,  2.,  3.,  3.,  3.,  3.,  3.,  3.,  3.,  3.,\n",
       "        3.])"
      ]
     },
     "execution_count": 132,
     "metadata": {},
     "output_type": "execute_result"
    }
   ],
   "source": [
    "np.repeat(arr2d, 3)"
   ]
  },
  {
   "cell_type": "code",
   "execution_count": null,
   "metadata": {},
   "outputs": [],
   "source": []
  },
  {
   "cell_type": "code",
   "execution_count": 133,
   "metadata": {},
   "outputs": [
    {
     "data": {
      "text/plain": [
       "array([[-1.,  0.,  1.],\n",
       "       [ 2.,  2.,  2.],\n",
       "       [ 3.,  3.,  3.]])"
      ]
     },
     "execution_count": 133,
     "metadata": {},
     "output_type": "execute_result"
    }
   ],
   "source": [
    "arr2d"
   ]
  },
  {
   "cell_type": "code",
   "execution_count": null,
   "metadata": {},
   "outputs": [],
   "source": []
  },
  {
   "cell_type": "code",
   "execution_count": 139,
   "metadata": {},
   "outputs": [
    {
     "data": {
      "text/plain": [
       "array([[0.03022941, 0.4897838 , 0.48808364],\n",
       "       [0.06658789, 0.25569082, 0.30411541],\n",
       "       [0.65788261, 0.16300932, 0.61885932]])"
      ]
     },
     "execution_count": 139,
     "metadata": {},
     "output_type": "execute_result"
    }
   ],
   "source": [
    "np.random.rand(3, 3)"
   ]
  },
  {
   "cell_type": "code",
   "execution_count": 138,
   "metadata": {},
   "outputs": [
    {
     "data": {
      "text/plain": [
       "array([[-0.95832052, -0.33374875,  0.46566206],\n",
       "       [-1.04891141,  0.5784687 , -0.1718599 ],\n",
       "       [ 0.27468945, -0.93154267,  0.65645431]])"
      ]
     },
     "execution_count": 138,
     "metadata": {},
     "output_type": "execute_result"
    }
   ],
   "source": [
    "np.random.randn(3, 3)"
   ]
  },
  {
   "cell_type": "code",
   "execution_count": 141,
   "metadata": {},
   "outputs": [
    {
     "data": {
      "text/plain": [
       "array([[6, 4, 0],\n",
       "       [2, 5, 9],\n",
       "       [7, 3, 0]])"
      ]
     },
     "execution_count": 141,
     "metadata": {},
     "output_type": "execute_result"
    }
   ],
   "source": [
    "np.random.randint(0, 10, [3,3])"
   ]
  },
  {
   "cell_type": "code",
   "execution_count": null,
   "metadata": {},
   "outputs": [],
   "source": []
  },
  {
   "cell_type": "code",
   "execution_count": 157,
   "metadata": {},
   "outputs": [
    {
     "data": {
      "text/plain": [
       "array([[5, 8, 9],\n",
       "       [5, 0, 0],\n",
       "       [1, 7, 6]])"
      ]
     },
     "execution_count": 157,
     "metadata": {},
     "output_type": "execute_result"
    }
   ],
   "source": [
    "np.random.seed(1)\n",
    "np.random.randint(0, 10, [3,3])"
   ]
  },
  {
   "cell_type": "code",
   "execution_count": null,
   "metadata": {},
   "outputs": [],
   "source": []
  },
  {
   "cell_type": "code",
   "execution_count": 161,
   "metadata": {},
   "outputs": [
    {
     "data": {
      "text/plain": [
       "array([-1.,  0.,  1.,  2.,  3.])"
      ]
     },
     "execution_count": 161,
     "metadata": {},
     "output_type": "execute_result"
    }
   ],
   "source": [
    "np.unique(arr2d)"
   ]
  },
  {
   "cell_type": "code",
   "execution_count": 162,
   "metadata": {},
   "outputs": [
    {
     "data": {
      "text/plain": [
       "array([[-1.,  0.,  1.],\n",
       "       [ 2.,  2.,  2.],\n",
       "       [ 3.,  3.,  3.]])"
      ]
     },
     "execution_count": 162,
     "metadata": {},
     "output_type": "execute_result"
    }
   ],
   "source": [
    "arr2d"
   ]
  },
  {
   "cell_type": "code",
   "execution_count": 163,
   "metadata": {},
   "outputs": [],
   "source": [
    "uniques, counts = np.unique(arr2d, return_counts= True)"
   ]
  },
  {
   "cell_type": "code",
   "execution_count": 164,
   "metadata": {},
   "outputs": [
    {
     "data": {
      "text/plain": [
       "array([-1.,  0.,  1.,  2.,  3.])"
      ]
     },
     "execution_count": 164,
     "metadata": {},
     "output_type": "execute_result"
    }
   ],
   "source": [
    "uniques"
   ]
  },
  {
   "cell_type": "code",
   "execution_count": 165,
   "metadata": {},
   "outputs": [
    {
     "data": {
      "text/plain": [
       "array([1, 1, 1, 3, 3], dtype=int64)"
      ]
     },
     "execution_count": 165,
     "metadata": {},
     "output_type": "execute_result"
    }
   ],
   "source": [
    "counts"
   ]
  },
  {
   "cell_type": "code",
   "execution_count": null,
   "metadata": {},
   "outputs": [],
   "source": []
  },
  {
   "cell_type": "markdown",
   "metadata": {},
   "source": [
    "# Numpy Crash Course Part 2 "
   ]
  },
  {
   "cell_type": "code",
   "execution_count": 166,
   "metadata": {},
   "outputs": [
    {
     "name": "stdout",
     "output_type": "stream",
     "text": [
      "[ 8 94  8 56  1  3  4  5  7]\n"
     ]
    }
   ],
   "source": [
    "arr = np.array([8,94,8,56,1,3,4,5,7])\n",
    "print(arr)"
   ]
  },
  {
   "cell_type": "code",
   "execution_count": 167,
   "metadata": {},
   "outputs": [
    {
     "data": {
      "text/plain": [
       "(array([1, 3], dtype=int64),)"
      ]
     },
     "execution_count": 167,
     "metadata": {},
     "output_type": "execute_result"
    }
   ],
   "source": [
    "index_gt10 = np.where(arr>10)\n",
    "index_gt10"
   ]
  },
  {
   "cell_type": "code",
   "execution_count": 168,
   "metadata": {},
   "outputs": [
    {
     "data": {
      "text/plain": [
       "array([94, 56])"
      ]
     },
     "execution_count": 168,
     "metadata": {},
     "output_type": "execute_result"
    }
   ],
   "source": [
    "arr[index_gt10]"
   ]
  },
  {
   "cell_type": "code",
   "execution_count": 169,
   "metadata": {},
   "outputs": [
    {
     "data": {
      "text/plain": [
       "array([94, 56])"
      ]
     },
     "execution_count": 169,
     "metadata": {},
     "output_type": "execute_result"
    }
   ],
   "source": [
    "arr[arr>10]"
   ]
  },
  {
   "cell_type": "code",
   "execution_count": 170,
   "metadata": {},
   "outputs": [
    {
     "data": {
      "text/plain": [
       "array([False,  True, False,  True, False, False, False, False, False])"
      ]
     },
     "execution_count": 170,
     "metadata": {},
     "output_type": "execute_result"
    }
   ],
   "source": [
    "arr>10"
   ]
  },
  {
   "cell_type": "code",
   "execution_count": null,
   "metadata": {},
   "outputs": [],
   "source": []
  },
  {
   "cell_type": "code",
   "execution_count": 171,
   "metadata": {},
   "outputs": [
    {
     "data": {
      "text/plain": [
       "array(['lt10', 'gt10', 'lt10', 'gt10', 'lt10', 'lt10', 'lt10', 'lt10',\n",
       "       'lt10'], dtype='<U4')"
      ]
     },
     "execution_count": 171,
     "metadata": {},
     "output_type": "execute_result"
    }
   ],
   "source": [
    "np.where(arr>10, 'gt10', 'lt10')"
   ]
  },
  {
   "cell_type": "code",
   "execution_count": null,
   "metadata": {},
   "outputs": [],
   "source": []
  },
  {
   "cell_type": "code",
   "execution_count": 172,
   "metadata": {},
   "outputs": [
    {
     "data": {
      "text/plain": [
       "array([ 8, 94,  8, 56,  1,  3,  4,  5,  7])"
      ]
     },
     "execution_count": 172,
     "metadata": {},
     "output_type": "execute_result"
    }
   ],
   "source": [
    "arr"
   ]
  },
  {
   "cell_type": "code",
   "execution_count": 173,
   "metadata": {},
   "outputs": [
    {
     "data": {
      "text/plain": [
       "94"
      ]
     },
     "execution_count": 173,
     "metadata": {},
     "output_type": "execute_result"
    }
   ],
   "source": [
    "arr.max()"
   ]
  },
  {
   "cell_type": "code",
   "execution_count": 174,
   "metadata": {},
   "outputs": [
    {
     "data": {
      "text/plain": [
       "1"
      ]
     },
     "execution_count": 174,
     "metadata": {},
     "output_type": "execute_result"
    }
   ],
   "source": [
    "arr.argmax()"
   ]
  },
  {
   "cell_type": "code",
   "execution_count": 176,
   "metadata": {},
   "outputs": [
    {
     "data": {
      "text/plain": [
       "1"
      ]
     },
     "execution_count": 176,
     "metadata": {},
     "output_type": "execute_result"
    }
   ],
   "source": [
    "arr[arr.argmin()]"
   ]
  },
  {
   "cell_type": "code",
   "execution_count": 177,
   "metadata": {},
   "outputs": [
    {
     "data": {
      "text/plain": [
       "4"
      ]
     },
     "execution_count": 177,
     "metadata": {},
     "output_type": "execute_result"
    }
   ],
   "source": [
    "arr.argmin()"
   ]
  },
  {
   "cell_type": "markdown",
   "metadata": {},
   "source": [
    "## read and write csv file "
   ]
  },
  {
   "cell_type": "code",
   "execution_count": null,
   "metadata": {},
   "outputs": [],
   "source": [
    "#np.genfromtxt(), np.loadtxt()"
   ]
  },
  {
   "cell_type": "code",
   "execution_count": 181,
   "metadata": {},
   "outputs": [],
   "source": [
    "data = np.genfromtxt('https://raw.githubusercontent.com/selva86/datasets/master/Auto.csv', delimiter= ',', skip_header= 1, \n",
    "              filling_values= -1000, dtype = 'float')"
   ]
  },
  {
   "cell_type": "code",
   "execution_count": 184,
   "metadata": {},
   "outputs": [
    {
     "data": {
      "text/plain": [
       "(392, 9)"
      ]
     },
     "execution_count": 184,
     "metadata": {},
     "output_type": "execute_result"
    }
   ],
   "source": [
    "data.shape"
   ]
  },
  {
   "cell_type": "code",
   "execution_count": 186,
   "metadata": {},
   "outputs": [
    {
     "data": {
      "text/plain": [
       "array([[   18. ,     8. ,   307. ,   130. ,  3504. ,    12. ,    70. ,\n",
       "            1. , -1000. ],\n",
       "       [   15. ,     8. ,   350. ,   165. ,  3693. ,    11.5,    70. ,\n",
       "            1. , -1000. ],\n",
       "       [   18. ,     8. ,   318. ,   150. ,  3436. ,    11. ,    70. ,\n",
       "            1. , -1000. ]])"
      ]
     },
     "execution_count": 186,
     "metadata": {},
     "output_type": "execute_result"
    }
   ],
   "source": [
    "np.set_printoptions(suppress=True)\n",
    "data[:3]"
   ]
  },
  {
   "cell_type": "code",
   "execution_count": null,
   "metadata": {},
   "outputs": [],
   "source": []
  },
  {
   "cell_type": "code",
   "execution_count": 199,
   "metadata": {},
   "outputs": [
    {
     "name": "stderr",
     "output_type": "stream",
     "text": [
      "C:\\ProgramData\\Anaconda3\\lib\\site-packages\\ipykernel_launcher.py:1: VisibleDeprecationWarning: Reading unicode strings without specifying the encoding argument is deprecated. Set the encoding, use None for the system default.\n",
      "  \"\"\"Entry point for launching an IPython kernel.\n"
     ]
    },
    {
     "data": {
      "text/plain": [
       "array([(18., 8, 307., 130, 3504, 12. , 70, 1, b'\"chevrolet chevelle malibu\"'),\n",
       "       (15., 8, 350., 165, 3693, 11.5, 70, 1, b'\"buick skylark 320\"'),\n",
       "       (18., 8, 318., 150, 3436, 11. , 70, 1, b'\"plymouth satellite\"')],\n",
       "      dtype=[('f0', '<f8'), ('f1', '<i4'), ('f2', '<f8'), ('f3', '<i4'), ('f4', '<i4'), ('f5', '<f8'), ('f6', '<i4'), ('f7', '<i4'), ('f8', 'S38')])"
      ]
     },
     "execution_count": 199,
     "metadata": {},
     "output_type": "execute_result"
    }
   ],
   "source": [
    "data2 = np.genfromtxt('https://raw.githubusercontent.com/selva86/datasets/master/Auto.csv', delimiter=',', skip_header=1, dtype= None)\n",
    "data2[:3]"
   ]
  },
  {
   "cell_type": "code",
   "execution_count": null,
   "metadata": {},
   "outputs": [],
   "source": []
  },
  {
   "cell_type": "code",
   "execution_count": 200,
   "metadata": {},
   "outputs": [],
   "source": [
    "np.savetxt('data.csv', data, delimiter=',')"
   ]
  },
  {
   "cell_type": "code",
   "execution_count": null,
   "metadata": {},
   "outputs": [],
   "source": []
  },
  {
   "cell_type": "code",
   "execution_count": 201,
   "metadata": {},
   "outputs": [
    {
     "data": {
      "text/plain": [
       "array([[   18.,     8.,   307., ...,    70.,     1., -1000.],\n",
       "       [   15.,     8.,   350., ...,    70.,     1., -1000.],\n",
       "       [   18.,     8.,   318., ...,    70.,     1., -1000.],\n",
       "       ...,\n",
       "       [   32.,     4.,   135., ...,    82.,     1., -1000.],\n",
       "       [   28.,     4.,   120., ...,    82.,     1., -1000.],\n",
       "       [   31.,     4.,   119., ...,    82.,     1., -1000.]])"
      ]
     },
     "execution_count": 201,
     "metadata": {},
     "output_type": "execute_result"
    }
   ],
   "source": [
    "data"
   ]
  },
  {
   "cell_type": "code",
   "execution_count": 202,
   "metadata": {},
   "outputs": [],
   "source": [
    "np.save('data.npy', data)"
   ]
  },
  {
   "cell_type": "code",
   "execution_count": 203,
   "metadata": {},
   "outputs": [],
   "source": [
    "np.savez('data2.npz', data, data2)"
   ]
  },
  {
   "cell_type": "code",
   "execution_count": null,
   "metadata": {},
   "outputs": [],
   "source": []
  },
  {
   "cell_type": "code",
   "execution_count": 204,
   "metadata": {},
   "outputs": [
    {
     "data": {
      "text/plain": [
       "array([[   18.,     8.,   307., ...,    70.,     1., -1000.],\n",
       "       [   15.,     8.,   350., ...,    70.,     1., -1000.],\n",
       "       [   18.,     8.,   318., ...,    70.,     1., -1000.],\n",
       "       ...,\n",
       "       [   32.,     4.,   135., ...,    82.,     1., -1000.],\n",
       "       [   28.,     4.,   120., ...,    82.,     1., -1000.],\n",
       "       [   31.,     4.,   119., ...,    82.,     1., -1000.]])"
      ]
     },
     "execution_count": 204,
     "metadata": {},
     "output_type": "execute_result"
    }
   ],
   "source": [
    "d = np.load('data.npy')\n",
    "d"
   ]
  },
  {
   "cell_type": "code",
   "execution_count": 206,
   "metadata": {},
   "outputs": [],
   "source": [
    "d2 = np.load('data2.npz')"
   ]
  },
  {
   "cell_type": "code",
   "execution_count": 208,
   "metadata": {},
   "outputs": [
    {
     "data": {
      "text/plain": [
       "['arr_0', 'arr_1']"
      ]
     },
     "execution_count": 208,
     "metadata": {},
     "output_type": "execute_result"
    }
   ],
   "source": [
    "d2.files"
   ]
  },
  {
   "cell_type": "code",
   "execution_count": 210,
   "metadata": {},
   "outputs": [
    {
     "data": {
      "text/plain": [
       "array([(18. , 8, 307. , 130, 3504, 12. , 70, 1, b'\"chevrolet chevelle malibu\"'),\n",
       "       (15. , 8, 350. , 165, 3693, 11.5, 70, 1, b'\"buick skylark 320\"'),\n",
       "       (18. , 8, 318. , 150, 3436, 11. , 70, 1, b'\"plymouth satellite\"'),\n",
       "       (16. , 8, 304. , 150, 3433, 12. , 70, 1, b'\"amc rebel sst\"'),\n",
       "       (17. , 8, 302. , 140, 3449, 10.5, 70, 1, b'\"ford torino\"'),\n",
       "       (15. , 8, 429. , 198, 4341, 10. , 70, 1, b'\"ford galaxie 500\"'),\n",
       "       (14. , 8, 454. , 220, 4354,  9. , 70, 1, b'\"chevrolet impala\"'),\n",
       "       (14. , 8, 440. , 215, 4312,  8.5, 70, 1, b'\"plymouth fury iii\"'),\n",
       "       (14. , 8, 455. , 225, 4425, 10. , 70, 1, b'\"pontiac catalina\"'),\n",
       "       (15. , 8, 390. , 190, 3850,  8.5, 70, 1, b'\"amc ambassador dpl\"'),\n",
       "       (15. , 8, 383. , 170, 3563, 10. , 70, 1, b'\"dodge challenger se\"'),\n",
       "       (14. , 8, 340. , 160, 3609,  8. , 70, 1, b'\"plymouth \\'cuda 340\"'),\n",
       "       (15. , 8, 400. , 150, 3761,  9.5, 70, 1, b'\"chevrolet monte carlo\"'),\n",
       "       (14. , 8, 455. , 225, 3086, 10. , 70, 1, b'\"buick estate wagon (sw)\"'),\n",
       "       (24. , 4, 113. ,  95, 2372, 15. , 70, 3, b'\"toyota corona mark ii\"'),\n",
       "       (22. , 6, 198. ,  95, 2833, 15.5, 70, 1, b'\"plymouth duster\"'),\n",
       "       (18. , 6, 199. ,  97, 2774, 15.5, 70, 1, b'\"amc hornet\"'),\n",
       "       (21. , 6, 200. ,  85, 2587, 16. , 70, 1, b'\"ford maverick\"'),\n",
       "       (27. , 4,  97. ,  88, 2130, 14.5, 70, 3, b'\"datsun pl510\"'),\n",
       "       (26. , 4,  97. ,  46, 1835, 20.5, 70, 2, b'\"volkswagen 1131 deluxe sedan\"'),\n",
       "       (25. , 4, 110. ,  87, 2672, 17.5, 70, 2, b'\"peugeot 504\"'),\n",
       "       (24. , 4, 107. ,  90, 2430, 14.5, 70, 2, b'\"audi 100 ls\"'),\n",
       "       (25. , 4, 104. ,  95, 2375, 17.5, 70, 2, b'\"saab 99e\"'),\n",
       "       (26. , 4, 121. , 113, 2234, 12.5, 70, 2, b'\"bmw 2002\"'),\n",
       "       (21. , 6, 199. ,  90, 2648, 15. , 70, 1, b'\"amc gremlin\"'),\n",
       "       (10. , 8, 360. , 215, 4615, 14. , 70, 1, b'\"ford f250\"'),\n",
       "       (10. , 8, 307. , 200, 4376, 15. , 70, 1, b'\"chevy c20\"'),\n",
       "       (11. , 8, 318. , 210, 4382, 13.5, 70, 1, b'\"dodge d200\"'),\n",
       "       ( 9. , 8, 304. , 193, 4732, 18.5, 70, 1, b'\"hi 1200d\"'),\n",
       "       (27. , 4,  97. ,  88, 2130, 14.5, 71, 3, b'\"datsun pl510\"'),\n",
       "       (28. , 4, 140. ,  90, 2264, 15.5, 71, 1, b'\"chevrolet vega 2300\"'),\n",
       "       (25. , 4, 113. ,  95, 2228, 14. , 71, 3, b'\"toyota corona\"'),\n",
       "       (19. , 6, 232. , 100, 2634, 13. , 71, 1, b'\"amc gremlin\"'),\n",
       "       (16. , 6, 225. , 105, 3439, 15.5, 71, 1, b'\"plymouth satellite custom\"'),\n",
       "       (17. , 6, 250. , 100, 3329, 15.5, 71, 1, b'\"chevrolet chevelle malibu\"'),\n",
       "       (19. , 6, 250. ,  88, 3302, 15.5, 71, 1, b'\"ford torino 500\"'),\n",
       "       (18. , 6, 232. , 100, 3288, 15.5, 71, 1, b'\"amc matador\"'),\n",
       "       (14. , 8, 350. , 165, 4209, 12. , 71, 1, b'\"chevrolet impala\"'),\n",
       "       (14. , 8, 400. , 175, 4464, 11.5, 71, 1, b'\"pontiac catalina brougham\"'),\n",
       "       (14. , 8, 351. , 153, 4154, 13.5, 71, 1, b'\"ford galaxie 500\"'),\n",
       "       (14. , 8, 318. , 150, 4096, 13. , 71, 1, b'\"plymouth fury iii\"'),\n",
       "       (12. , 8, 383. , 180, 4955, 11.5, 71, 1, b'\"dodge monaco (sw)\"'),\n",
       "       (13. , 8, 400. , 170, 4746, 12. , 71, 1, b'\"ford country squire (sw)\"'),\n",
       "       (13. , 8, 400. , 175, 5140, 12. , 71, 1, b'\"pontiac safari (sw)\"'),\n",
       "       (18. , 6, 258. , 110, 2962, 13.5, 71, 1, b'\"amc hornet sportabout (sw)\"'),\n",
       "       (22. , 4, 140. ,  72, 2408, 19. , 71, 1, b'\"chevrolet vega (sw)\"'),\n",
       "       (19. , 6, 250. , 100, 3282, 15. , 71, 1, b'\"pontiac firebird\"'),\n",
       "       (18. , 6, 250. ,  88, 3139, 14.5, 71, 1, b'\"ford mustang\"'),\n",
       "       (23. , 4, 122. ,  86, 2220, 14. , 71, 1, b'\"mercury capri 2000\"'),\n",
       "       (28. , 4, 116. ,  90, 2123, 14. , 71, 2, b'\"opel 1900\"'),\n",
       "       (30. , 4,  79. ,  70, 2074, 19.5, 71, 2, b'\"peugeot 304\"'),\n",
       "       (30. , 4,  88. ,  76, 2065, 14.5, 71, 2, b'\"fiat 124b\"'),\n",
       "       (31. , 4,  71. ,  65, 1773, 19. , 71, 3, b'\"toyota corolla 1200\"'),\n",
       "       (35. , 4,  72. ,  69, 1613, 18. , 71, 3, b'\"datsun 1200\"'),\n",
       "       (27. , 4,  97. ,  60, 1834, 19. , 71, 2, b'\"volkswagen model 111\"'),\n",
       "       (26. , 4,  91. ,  70, 1955, 20.5, 71, 1, b'\"plymouth cricket\"'),\n",
       "       (24. , 4, 113. ,  95, 2278, 15.5, 72, 3, b'\"toyota corona hardtop\"'),\n",
       "       (25. , 4,  97.5,  80, 2126, 17. , 72, 1, b'\"dodge colt hardtop\"'),\n",
       "       (23. , 4,  97. ,  54, 2254, 23.5, 72, 2, b'\"volkswagen type 3\"'),\n",
       "       (20. , 4, 140. ,  90, 2408, 19.5, 72, 1, b'\"chevrolet vega\"'),\n",
       "       (21. , 4, 122. ,  86, 2226, 16.5, 72, 1, b'\"ford pinto runabout\"'),\n",
       "       (13. , 8, 350. , 165, 4274, 12. , 72, 1, b'\"chevrolet impala\"'),\n",
       "       (14. , 8, 400. , 175, 4385, 12. , 72, 1, b'\"pontiac catalina\"'),\n",
       "       (15. , 8, 318. , 150, 4135, 13.5, 72, 1, b'\"plymouth fury iii\"'),\n",
       "       (14. , 8, 351. , 153, 4129, 13. , 72, 1, b'\"ford galaxie 500\"'),\n",
       "       (17. , 8, 304. , 150, 3672, 11.5, 72, 1, b'\"amc ambassador sst\"'),\n",
       "       (11. , 8, 429. , 208, 4633, 11. , 72, 1, b'\"mercury marquis\"'),\n",
       "       (13. , 8, 350. , 155, 4502, 13.5, 72, 1, b'\"buick lesabre custom\"'),\n",
       "       (12. , 8, 350. , 160, 4456, 13.5, 72, 1, b'\"oldsmobile delta 88 royale\"'),\n",
       "       (13. , 8, 400. , 190, 4422, 12.5, 72, 1, b'\"chrysler newport royal\"'),\n",
       "       (19. , 3,  70. ,  97, 2330, 13.5, 72, 3, b'\"mazda rx2 coupe\"'),\n",
       "       (15. , 8, 304. , 150, 3892, 12.5, 72, 1, b'\"amc matador (sw)\"'),\n",
       "       (13. , 8, 307. , 130, 4098, 14. , 72, 1, b'\"chevrolet chevelle concours (sw)\"'),\n",
       "       (13. , 8, 302. , 140, 4294, 16. , 72, 1, b'\"ford gran torino (sw)\"'),\n",
       "       (14. , 8, 318. , 150, 4077, 14. , 72, 1, b'\"plymouth satellite custom (sw)\"'),\n",
       "       (18. , 4, 121. , 112, 2933, 14.5, 72, 2, b'\"volvo 145e (sw)\"'),\n",
       "       (22. , 4, 121. ,  76, 2511, 18. , 72, 2, b'\"volkswagen 411 (sw)\"'),\n",
       "       (21. , 4, 120. ,  87, 2979, 19.5, 72, 2, b'\"peugeot 504 (sw)\"'),\n",
       "       (26. , 4,  96. ,  69, 2189, 18. , 72, 2, b'\"renault 12 (sw)\"'),\n",
       "       (22. , 4, 122. ,  86, 2395, 16. , 72, 1, b'\"ford pinto (sw)\"'),\n",
       "       (28. , 4,  97. ,  92, 2288, 17. , 72, 3, b'\"datsun 510 (sw)\"'),\n",
       "       (23. , 4, 120. ,  97, 2506, 14.5, 72, 3, b'\"toyouta corona mark ii (sw)\"'),\n",
       "       (28. , 4,  98. ,  80, 2164, 15. , 72, 1, b'\"dodge colt (sw)\"'),\n",
       "       (27. , 4,  97. ,  88, 2100, 16.5, 72, 3, b'\"toyota corolla 1600 (sw)\"'),\n",
       "       (13. , 8, 350. , 175, 4100, 13. , 73, 1, b'\"buick century 350\"'),\n",
       "       (14. , 8, 304. , 150, 3672, 11.5, 73, 1, b'\"amc matador\"'),\n",
       "       (13. , 8, 350. , 145, 3988, 13. , 73, 1, b'\"chevrolet malibu\"'),\n",
       "       (14. , 8, 302. , 137, 4042, 14.5, 73, 1, b'\"ford gran torino\"'),\n",
       "       (15. , 8, 318. , 150, 3777, 12.5, 73, 1, b'\"dodge coronet custom\"'),\n",
       "       (12. , 8, 429. , 198, 4952, 11.5, 73, 1, b'\"mercury marquis brougham\"'),\n",
       "       (13. , 8, 400. , 150, 4464, 12. , 73, 1, b'\"chevrolet caprice classic\"'),\n",
       "       (13. , 8, 351. , 158, 4363, 13. , 73, 1, b'\"ford ltd\"'),\n",
       "       (14. , 8, 318. , 150, 4237, 14.5, 73, 1, b'\"plymouth fury gran sedan\"'),\n",
       "       (13. , 8, 440. , 215, 4735, 11. , 73, 1, b'\"chrysler new yorker brougham\"'),\n",
       "       (12. , 8, 455. , 225, 4951, 11. , 73, 1, b'\"buick electra 225 custom\"'),\n",
       "       (13. , 8, 360. , 175, 3821, 11. , 73, 1, b'\"amc ambassador brougham\"'),\n",
       "       (18. , 6, 225. , 105, 3121, 16.5, 73, 1, b'\"plymouth valiant\"'),\n",
       "       (16. , 6, 250. , 100, 3278, 18. , 73, 1, b'\"chevrolet nova custom\"'),\n",
       "       (18. , 6, 232. , 100, 2945, 16. , 73, 1, b'\"amc hornet\"'),\n",
       "       (18. , 6, 250. ,  88, 3021, 16.5, 73, 1, b'\"ford maverick\"'),\n",
       "       (23. , 6, 198. ,  95, 2904, 16. , 73, 1, b'\"plymouth duster\"'),\n",
       "       (26. , 4,  97. ,  46, 1950, 21. , 73, 2, b'\"volkswagen super beetle\"'),\n",
       "       (11. , 8, 400. , 150, 4997, 14. , 73, 1, b'\"chevrolet impala\"'),\n",
       "       (12. , 8, 400. , 167, 4906, 12.5, 73, 1, b'\"ford country\"'),\n",
       "       (13. , 8, 360. , 170, 4654, 13. , 73, 1, b'\"plymouth custom suburb\"'),\n",
       "       (12. , 8, 350. , 180, 4499, 12.5, 73, 1, b'\"oldsmobile vista cruiser\"'),\n",
       "       (18. , 6, 232. , 100, 2789, 15. , 73, 1, b'\"amc gremlin\"'),\n",
       "       (20. , 4,  97. ,  88, 2279, 19. , 73, 3, b'\"toyota carina\"'),\n",
       "       (21. , 4, 140. ,  72, 2401, 19.5, 73, 1, b'\"chevrolet vega\"'),\n",
       "       (22. , 4, 108. ,  94, 2379, 16.5, 73, 3, b'\"datsun 610\"'),\n",
       "       (18. , 3,  70. ,  90, 2124, 13.5, 73, 3, b'\"maxda rx3\"'),\n",
       "       (19. , 4, 122. ,  85, 2310, 18.5, 73, 1, b'\"ford pinto\"'),\n",
       "       (21. , 6, 155. , 107, 2472, 14. , 73, 1, b'\"mercury capri v6\"'),\n",
       "       (26. , 4,  98. ,  90, 2265, 15.5, 73, 2, b'\"fiat 124 sport coupe\"'),\n",
       "       (15. , 8, 350. , 145, 4082, 13. , 73, 1, b'\"chevrolet monte carlo s\"'),\n",
       "       (16. , 8, 400. , 230, 4278,  9.5, 73, 1, b'\"pontiac grand prix\"'),\n",
       "       (29. , 4,  68. ,  49, 1867, 19.5, 73, 2, b'\"fiat 128\"'),\n",
       "       (24. , 4, 116. ,  75, 2158, 15.5, 73, 2, b'\"opel manta\"'),\n",
       "       (20. , 4, 114. ,  91, 2582, 14. , 73, 2, b'\"audi 100ls\"'),\n",
       "       (19. , 4, 121. , 112, 2868, 15.5, 73, 2, b'\"volvo 144ea\"'),\n",
       "       (15. , 8, 318. , 150, 3399, 11. , 73, 1, b'\"dodge dart custom\"'),\n",
       "       (24. , 4, 121. , 110, 2660, 14. , 73, 2, b'\"saab 99le\"'),\n",
       "       (20. , 6, 156. , 122, 2807, 13.5, 73, 3, b'\"toyota mark ii\"'),\n",
       "       (11. , 8, 350. , 180, 3664, 11. , 73, 1, b'\"oldsmobile omega\"'),\n",
       "       (20. , 6, 198. ,  95, 3102, 16.5, 74, 1, b'\"plymouth duster\"'),\n",
       "       (19. , 6, 232. , 100, 2901, 16. , 74, 1, b'\"amc hornet\"'),\n",
       "       (15. , 6, 250. , 100, 3336, 17. , 74, 1, b'\"chevrolet nova\"'),\n",
       "       (31. , 4,  79. ,  67, 1950, 19. , 74, 3, b'\"datsun b210\"'),\n",
       "       (26. , 4, 122. ,  80, 2451, 16.5, 74, 1, b'\"ford pinto\"'),\n",
       "       (32. , 4,  71. ,  65, 1836, 21. , 74, 3, b'\"toyota corolla 1200\"'),\n",
       "       (25. , 4, 140. ,  75, 2542, 17. , 74, 1, b'\"chevrolet vega\"'),\n",
       "       (16. , 6, 250. , 100, 3781, 17. , 74, 1, b'\"chevrolet chevelle malibu classic\"'),\n",
       "       (16. , 6, 258. , 110, 3632, 18. , 74, 1, b'\"amc matador\"'),\n",
       "       (18. , 6, 225. , 105, 3613, 16.5, 74, 1, b'\"plymouth satellite sebring\"'),\n",
       "       (16. , 8, 302. , 140, 4141, 14. , 74, 1, b'\"ford gran torino\"'),\n",
       "       (13. , 8, 350. , 150, 4699, 14.5, 74, 1, b'\"buick century luxus (sw)\"'),\n",
       "       (14. , 8, 318. , 150, 4457, 13.5, 74, 1, b'\"dodge coronet custom (sw)\"'),\n",
       "       (14. , 8, 302. , 140, 4638, 16. , 74, 1, b'\"ford gran torino (sw)\"'),\n",
       "       (14. , 8, 304. , 150, 4257, 15.5, 74, 1, b'\"amc matador (sw)\"'),\n",
       "       (29. , 4,  98. ,  83, 2219, 16.5, 74, 2, b'\"audi fox\"'),\n",
       "       (26. , 4,  79. ,  67, 1963, 15.5, 74, 2, b'\"volkswagen dasher\"'),\n",
       "       (26. , 4,  97. ,  78, 2300, 14.5, 74, 2, b'\"opel manta\"'),\n",
       "       (31. , 4,  76. ,  52, 1649, 16.5, 74, 3, b'\"toyota corona\"'),\n",
       "       (32. , 4,  83. ,  61, 2003, 19. , 74, 3, b'\"datsun 710\"'),\n",
       "       (28. , 4,  90. ,  75, 2125, 14.5, 74, 1, b'\"dodge colt\"'),\n",
       "       (24. , 4,  90. ,  75, 2108, 15.5, 74, 2, b'\"fiat 128\"'),\n",
       "       (26. , 4, 116. ,  75, 2246, 14. , 74, 2, b'\"fiat 124 tc\"'),\n",
       "       (24. , 4, 120. ,  97, 2489, 15. , 74, 3, b'\"honda civic\"'),\n",
       "       (26. , 4, 108. ,  93, 2391, 15.5, 74, 3, b'\"subaru\"'),\n",
       "       (31. , 4,  79. ,  67, 2000, 16. , 74, 2, b'\"fiat x1.9\"'),\n",
       "       (19. , 6, 225. ,  95, 3264, 16. , 75, 1, b'\"plymouth valiant custom\"'),\n",
       "       (18. , 6, 250. , 105, 3459, 16. , 75, 1, b'\"chevrolet nova\"'),\n",
       "       (15. , 6, 250. ,  72, 3432, 21. , 75, 1, b'\"mercury monarch\"'),\n",
       "       (15. , 6, 250. ,  72, 3158, 19.5, 75, 1, b'\"ford maverick\"'),\n",
       "       (16. , 8, 400. , 170, 4668, 11.5, 75, 1, b'\"pontiac catalina\"'),\n",
       "       (15. , 8, 350. , 145, 4440, 14. , 75, 1, b'\"chevrolet bel air\"'),\n",
       "       (16. , 8, 318. , 150, 4498, 14.5, 75, 1, b'\"plymouth grand fury\"'),\n",
       "       (14. , 8, 351. , 148, 4657, 13.5, 75, 1, b'\"ford ltd\"'),\n",
       "       (17. , 6, 231. , 110, 3907, 21. , 75, 1, b'\"buick century\"'),\n",
       "       (16. , 6, 250. , 105, 3897, 18.5, 75, 1, b'\"chevroelt chevelle malibu\"'),\n",
       "       (15. , 6, 258. , 110, 3730, 19. , 75, 1, b'\"amc matador\"'),\n",
       "       (18. , 6, 225. ,  95, 3785, 19. , 75, 1, b'\"plymouth fury\"'),\n",
       "       (21. , 6, 231. , 110, 3039, 15. , 75, 1, b'\"buick skyhawk\"'),\n",
       "       (20. , 8, 262. , 110, 3221, 13.5, 75, 1, b'\"chevrolet monza 2+2\"'),\n",
       "       (13. , 8, 302. , 129, 3169, 12. , 75, 1, b'\"ford mustang ii\"'),\n",
       "       (29. , 4,  97. ,  75, 2171, 16. , 75, 3, b'\"toyota corolla\"'),\n",
       "       (23. , 4, 140. ,  83, 2639, 17. , 75, 1, b'\"ford pinto\"'),\n",
       "       (20. , 6, 232. , 100, 2914, 16. , 75, 1, b'\"amc gremlin\"'),\n",
       "       (23. , 4, 140. ,  78, 2592, 18.5, 75, 1, b'\"pontiac astro\"'),\n",
       "       (24. , 4, 134. ,  96, 2702, 13.5, 75, 3, b'\"toyota corona\"'),\n",
       "       (25. , 4,  90. ,  71, 2223, 16.5, 75, 2, b'\"volkswagen dasher\"'),\n",
       "       (24. , 4, 119. ,  97, 2545, 17. , 75, 3, b'\"datsun 710\"'),\n",
       "       (18. , 6, 171. ,  97, 2984, 14.5, 75, 1, b'\"ford pinto\"'),\n",
       "       (29. , 4,  90. ,  70, 1937, 14. , 75, 2, b'\"volkswagen rabbit\"'),\n",
       "       (19. , 6, 232. ,  90, 3211, 17. , 75, 1, b'\"amc pacer\"'),\n",
       "       (23. , 4, 115. ,  95, 2694, 15. , 75, 2, b'\"audi 100ls\"'),\n",
       "       (23. , 4, 120. ,  88, 2957, 17. , 75, 2, b'\"peugeot 504\"'),\n",
       "       (22. , 4, 121. ,  98, 2945, 14.5, 75, 2, b'\"volvo 244dl\"'),\n",
       "       (25. , 4, 121. , 115, 2671, 13.5, 75, 2, b'\"saab 99le\"'),\n",
       "       (33. , 4,  91. ,  53, 1795, 17.5, 75, 3, b'\"honda civic cvcc\"'),\n",
       "       (28. , 4, 107. ,  86, 2464, 15.5, 76, 2, b'\"fiat 131\"'),\n",
       "       (25. , 4, 116. ,  81, 2220, 16.9, 76, 2, b'\"opel 1900\"'),\n",
       "       (25. , 4, 140. ,  92, 2572, 14.9, 76, 1, b'\"capri ii\"'),\n",
       "       (26. , 4,  98. ,  79, 2255, 17.7, 76, 1, b'\"dodge colt\"'),\n",
       "       (27. , 4, 101. ,  83, 2202, 15.3, 76, 2, b'\"renault 12tl\"'),\n",
       "       (17.5, 8, 305. , 140, 4215, 13. , 76, 1, b'\"chevrolet chevelle malibu classic\"'),\n",
       "       (16. , 8, 318. , 150, 4190, 13. , 76, 1, b'\"dodge coronet brougham\"'),\n",
       "       (15.5, 8, 304. , 120, 3962, 13.9, 76, 1, b'\"amc matador\"'),\n",
       "       (14.5, 8, 351. , 152, 4215, 12.8, 76, 1, b'\"ford gran torino\"'),\n",
       "       (22. , 6, 225. , 100, 3233, 15.4, 76, 1, b'\"plymouth valiant\"'),\n",
       "       (22. , 6, 250. , 105, 3353, 14.5, 76, 1, b'\"chevrolet nova\"'),\n",
       "       (24. , 6, 200. ,  81, 3012, 17.6, 76, 1, b'\"ford maverick\"'),\n",
       "       (22.5, 6, 232. ,  90, 3085, 17.6, 76, 1, b'\"amc hornet\"'),\n",
       "       (29. , 4,  85. ,  52, 2035, 22.2, 76, 1, b'\"chevrolet chevette\"'),\n",
       "       (24.5, 4,  98. ,  60, 2164, 22.1, 76, 1, b'\"chevrolet woody\"'),\n",
       "       (29. , 4,  90. ,  70, 1937, 14.2, 76, 2, b'\"vw rabbit\"'),\n",
       "       (33. , 4,  91. ,  53, 1795, 17.4, 76, 3, b'\"honda civic\"'),\n",
       "       (20. , 6, 225. , 100, 3651, 17.7, 76, 1, b'\"dodge aspen se\"'),\n",
       "       (18. , 6, 250. ,  78, 3574, 21. , 76, 1, b'\"ford granada ghia\"'),\n",
       "       (18.5, 6, 250. , 110, 3645, 16.2, 76, 1, b'\"pontiac ventura sj\"'),\n",
       "       (17.5, 6, 258. ,  95, 3193, 17.8, 76, 1, b'\"amc pacer d/l\"'),\n",
       "       (29.5, 4,  97. ,  71, 1825, 12.2, 76, 2, b'\"volkswagen rabbit\"'),\n",
       "       (32. , 4,  85. ,  70, 1990, 17. , 76, 3, b'\"datsun b-210\"'),\n",
       "       (28. , 4,  97. ,  75, 2155, 16.4, 76, 3, b'\"toyota corolla\"'),\n",
       "       (26.5, 4, 140. ,  72, 2565, 13.6, 76, 1, b'\"ford pinto\"'),\n",
       "       (20. , 4, 130. , 102, 3150, 15.7, 76, 2, b'\"volvo 245\"'),\n",
       "       (13. , 8, 318. , 150, 3940, 13.2, 76, 1, b'\"plymouth volare premier v8\"'),\n",
       "       (19. , 4, 120. ,  88, 3270, 21.9, 76, 2, b'\"peugeot 504\"'),\n",
       "       (19. , 6, 156. , 108, 2930, 15.5, 76, 3, b'\"toyota mark ii\"'),\n",
       "       (16.5, 6, 168. , 120, 3820, 16.7, 76, 2, b'\"mercedes-benz 280s\"'),\n",
       "       (16.5, 8, 350. , 180, 4380, 12.1, 76, 1, b'\"cadillac seville\"'),\n",
       "       (13. , 8, 350. , 145, 4055, 12. , 76, 1, b'\"chevy c10\"'),\n",
       "       (13. , 8, 302. , 130, 3870, 15. , 76, 1, b'\"ford f108\"'),\n",
       "       (13. , 8, 318. , 150, 3755, 14. , 76, 1, b'\"dodge d100\"'),\n",
       "       (31.5, 4,  98. ,  68, 2045, 18.5, 77, 3, b'\"honda accord cvcc\"'),\n",
       "       (30. , 4, 111. ,  80, 2155, 14.8, 77, 1, b'\"buick opel isuzu deluxe\"'),\n",
       "       (36. , 4,  79. ,  58, 1825, 18.6, 77, 2, b'\"renault 5 gtl\"'),\n",
       "       (25.5, 4, 122. ,  96, 2300, 15.5, 77, 1, b'\"plymouth arrow gs\"'),\n",
       "       (33.5, 4,  85. ,  70, 1945, 16.8, 77, 3, b'\"datsun f-10 hatchback\"'),\n",
       "       (17.5, 8, 305. , 145, 3880, 12.5, 77, 1, b'\"chevrolet caprice classic\"'),\n",
       "       (17. , 8, 260. , 110, 4060, 19. , 77, 1, b'\"oldsmobile cutlass supreme\"'),\n",
       "       (15.5, 8, 318. , 145, 4140, 13.7, 77, 1, b'\"dodge monaco brougham\"'),\n",
       "       (15. , 8, 302. , 130, 4295, 14.9, 77, 1, b'\"mercury cougar brougham\"'),\n",
       "       (17.5, 6, 250. , 110, 3520, 16.4, 77, 1, b'\"chevrolet concours\"'),\n",
       "       (20.5, 6, 231. , 105, 3425, 16.9, 77, 1, b'\"buick skylark\"'),\n",
       "       (19. , 6, 225. , 100, 3630, 17.7, 77, 1, b'\"plymouth volare custom\"'),\n",
       "       (18.5, 6, 250. ,  98, 3525, 19. , 77, 1, b'\"ford granada\"'),\n",
       "       (16. , 8, 400. , 180, 4220, 11.1, 77, 1, b'\"pontiac grand prix lj\"'),\n",
       "       (15.5, 8, 350. , 170, 4165, 11.4, 77, 1, b'\"chevrolet monte carlo landau\"'),\n",
       "       (15.5, 8, 400. , 190, 4325, 12.2, 77, 1, b'\"chrysler cordoba\"'),\n",
       "       (16. , 8, 351. , 149, 4335, 14.5, 77, 1, b'\"ford thunderbird\"'),\n",
       "       (29. , 4,  97. ,  78, 1940, 14.5, 77, 2, b'\"volkswagen rabbit custom\"'),\n",
       "       (24.5, 4, 151. ,  88, 2740, 16. , 77, 1, b'\"pontiac sunbird coupe\"'),\n",
       "       (26. , 4,  97. ,  75, 2265, 18.2, 77, 3, b'\"toyota corolla liftback\"'),\n",
       "       (25.5, 4, 140. ,  89, 2755, 15.8, 77, 1, b'\"ford mustang ii 2+2\"'),\n",
       "       (30.5, 4,  98. ,  63, 2051, 17. , 77, 1, b'\"chevrolet chevette\"'),\n",
       "       (33.5, 4,  98. ,  83, 2075, 15.9, 77, 1, b'\"dodge colt m/m\"'),\n",
       "       (30. , 4,  97. ,  67, 1985, 16.4, 77, 3, b'\"subaru dl\"'),\n",
       "       (30.5, 4,  97. ,  78, 2190, 14.1, 77, 2, b'\"volkswagen dasher\"'),\n",
       "       (22. , 6, 146. ,  97, 2815, 14.5, 77, 3, b'\"datsun 810\"'),\n",
       "       (21.5, 4, 121. , 110, 2600, 12.8, 77, 2, b'\"bmw 320i\"'),\n",
       "       (21.5, 3,  80. , 110, 2720, 13.5, 77, 3, b'\"mazda rx-4\"'),\n",
       "       (43.1, 4,  90. ,  48, 1985, 21.5, 78, 2, b'\"volkswagen rabbit custom diesel\"'),\n",
       "       (36.1, 4,  98. ,  66, 1800, 14.4, 78, 1, b'\"ford fiesta\"'),\n",
       "       (32.8, 4,  78. ,  52, 1985, 19.4, 78, 3, b'\"mazda glc deluxe\"'),\n",
       "       (39.4, 4,  85. ,  70, 2070, 18.6, 78, 3, b'\"datsun b210 gx\"'),\n",
       "       (36.1, 4,  91. ,  60, 1800, 16.4, 78, 3, b'\"honda civic cvcc\"'),\n",
       "       (19.9, 8, 260. , 110, 3365, 15.5, 78, 1, b'\"oldsmobile cutlass salon brougham\"'),\n",
       "       (19.4, 8, 318. , 140, 3735, 13.2, 78, 1, b'\"dodge diplomat\"'),\n",
       "       (20.2, 8, 302. , 139, 3570, 12.8, 78, 1, b'\"mercury monarch ghia\"'),\n",
       "       (19.2, 6, 231. , 105, 3535, 19.2, 78, 1, b'\"pontiac phoenix lj\"'),\n",
       "       (20.5, 6, 200. ,  95, 3155, 18.2, 78, 1, b'\"chevrolet malibu\"'),\n",
       "       (20.2, 6, 200. ,  85, 2965, 15.8, 78, 1, b'\"ford fairmont (auto)\"'),\n",
       "       (25.1, 4, 140. ,  88, 2720, 15.4, 78, 1, b'\"ford fairmont (man)\"'),\n",
       "       (20.5, 6, 225. , 100, 3430, 17.2, 78, 1, b'\"plymouth volare\"'),\n",
       "       (19.4, 6, 232. ,  90, 3210, 17.2, 78, 1, b'\"amc concord\"'),\n",
       "       (20.6, 6, 231. , 105, 3380, 15.8, 78, 1, b'\"buick century special\"'),\n",
       "       (20.8, 6, 200. ,  85, 3070, 16.7, 78, 1, b'\"mercury zephyr\"'),\n",
       "       (18.6, 6, 225. , 110, 3620, 18.7, 78, 1, b'\"dodge aspen\"'),\n",
       "       (18.1, 6, 258. , 120, 3410, 15.1, 78, 1, b'\"amc concord d/l\"'),\n",
       "       (19.2, 8, 305. , 145, 3425, 13.2, 78, 1, b'\"chevrolet monte carlo landau\"'),\n",
       "       (17.7, 6, 231. , 165, 3445, 13.4, 78, 1, b'\"buick regal sport coupe (turbo)\"'),\n",
       "       (18.1, 8, 302. , 139, 3205, 11.2, 78, 1, b'\"ford futura\"'),\n",
       "       (17.5, 8, 318. , 140, 4080, 13.7, 78, 1, b'\"dodge magnum xe\"'),\n",
       "       (30. , 4,  98. ,  68, 2155, 16.5, 78, 1, b'\"chevrolet chevette\"'),\n",
       "       (27.5, 4, 134. ,  95, 2560, 14.2, 78, 3, b'\"toyota corona\"'),\n",
       "       (27.2, 4, 119. ,  97, 2300, 14.7, 78, 3, b'\"datsun 510\"'),\n",
       "       (30.9, 4, 105. ,  75, 2230, 14.5, 78, 1, b'\"dodge omni\"'),\n",
       "       (21.1, 4, 134. ,  95, 2515, 14.8, 78, 3, b'\"toyota celica gt liftback\"'),\n",
       "       (23.2, 4, 156. , 105, 2745, 16.7, 78, 1, b'\"plymouth sapporo\"'),\n",
       "       (23.8, 4, 151. ,  85, 2855, 17.6, 78, 1, b'\"oldsmobile starfire sx\"'),\n",
       "       (23.9, 4, 119. ,  97, 2405, 14.9, 78, 3, b'\"datsun 200-sx\"'),\n",
       "       (20.3, 5, 131. , 103, 2830, 15.9, 78, 2, b'\"audi 5000\"'),\n",
       "       (17. , 6, 163. , 125, 3140, 13.6, 78, 2, b'\"volvo 264gl\"'),\n",
       "       (21.6, 4, 121. , 115, 2795, 15.7, 78, 2, b'\"saab 99gle\"'),\n",
       "       (16.2, 6, 163. , 133, 3410, 15.8, 78, 2, b'\"peugeot 604sl\"'),\n",
       "       (31.5, 4,  89. ,  71, 1990, 14.9, 78, 2, b'\"volkswagen scirocco\"'),\n",
       "       (29.5, 4,  98. ,  68, 2135, 16.6, 78, 3, b'\"honda accord lx\"'),\n",
       "       (21.5, 6, 231. , 115, 3245, 15.4, 79, 1, b'\"pontiac lemans v6\"'),\n",
       "       (19.8, 6, 200. ,  85, 2990, 18.2, 79, 1, b'\"mercury zephyr 6\"'),\n",
       "       (22.3, 4, 140. ,  88, 2890, 17.3, 79, 1, b'\"ford fairmont 4\"'),\n",
       "       (20.2, 6, 232. ,  90, 3265, 18.2, 79, 1, b'\"amc concord dl 6\"'),\n",
       "       (20.6, 6, 225. , 110, 3360, 16.6, 79, 1, b'\"dodge aspen 6\"'),\n",
       "       (17. , 8, 305. , 130, 3840, 15.4, 79, 1, b'\"chevrolet caprice classic\"'),\n",
       "       (17.6, 8, 302. , 129, 3725, 13.4, 79, 1, b'\"ford ltd landau\"'),\n",
       "       (16.5, 8, 351. , 138, 3955, 13.2, 79, 1, b'\"mercury grand marquis\"'),\n",
       "       (18.2, 8, 318. , 135, 3830, 15.2, 79, 1, b'\"dodge st. regis\"'),\n",
       "       (16.9, 8, 350. , 155, 4360, 14.9, 79, 1, b'\"buick estate wagon (sw)\"'),\n",
       "       (15.5, 8, 351. , 142, 4054, 14.3, 79, 1, b'\"ford country squire (sw)\"'),\n",
       "       (19.2, 8, 267. , 125, 3605, 15. , 79, 1, b'\"chevrolet malibu classic (sw)\"'),\n",
       "       (18.5, 8, 360. , 150, 3940, 13. , 79, 1, b'\"chrysler lebaron town @ country (sw)\"'),\n",
       "       (31.9, 4,  89. ,  71, 1925, 14. , 79, 2, b'\"vw rabbit custom\"'),\n",
       "       (34.1, 4,  86. ,  65, 1975, 15.2, 79, 3, b'\"maxda glc deluxe\"'),\n",
       "       (35.7, 4,  98. ,  80, 1915, 14.4, 79, 1, b'\"dodge colt hatchback custom\"'),\n",
       "       (27.4, 4, 121. ,  80, 2670, 15. , 79, 1, b'\"amc spirit dl\"'),\n",
       "       (25.4, 5, 183. ,  77, 3530, 20.1, 79, 2, b'\"mercedes benz 300d\"'),\n",
       "       (23. , 8, 350. , 125, 3900, 17.4, 79, 1, b'\"cadillac eldorado\"'),\n",
       "       (27.2, 4, 141. ,  71, 3190, 24.8, 79, 2, b'\"peugeot 504\"'),\n",
       "       (23.9, 8, 260. ,  90, 3420, 22.2, 79, 1, b'\"oldsmobile cutlass salon brougham\"'),\n",
       "       (34.2, 4, 105. ,  70, 2200, 13.2, 79, 1, b'\"plymouth horizon\"'),\n",
       "       (34.5, 4, 105. ,  70, 2150, 14.9, 79, 1, b'\"plymouth horizon tc3\"'),\n",
       "       (31.8, 4,  85. ,  65, 2020, 19.2, 79, 3, b'\"datsun 210\"'),\n",
       "       (37.3, 4,  91. ,  69, 2130, 14.7, 79, 2, b'\"fiat strada custom\"'),\n",
       "       (28.4, 4, 151. ,  90, 2670, 16. , 79, 1, b'\"buick skylark limited\"'),\n",
       "       (28.8, 6, 173. , 115, 2595, 11.3, 79, 1, b'\"chevrolet citation\"'),\n",
       "       (26.8, 6, 173. , 115, 2700, 12.9, 79, 1, b'\"oldsmobile omega brougham\"'),\n",
       "       (33.5, 4, 151. ,  90, 2556, 13.2, 79, 1, b'\"pontiac phoenix\"'),\n",
       "       (41.5, 4,  98. ,  76, 2144, 14.7, 80, 2, b'\"vw rabbit\"'),\n",
       "       (38.1, 4,  89. ,  60, 1968, 18.8, 80, 3, b'\"toyota corolla tercel\"'),\n",
       "       (32.1, 4,  98. ,  70, 2120, 15.5, 80, 1, b'\"chevrolet chevette\"'),\n",
       "       (37.2, 4,  86. ,  65, 2019, 16.4, 80, 3, b'\"datsun 310\"'),\n",
       "       (28. , 4, 151. ,  90, 2678, 16.5, 80, 1, b'\"chevrolet citation\"'),\n",
       "       (26.4, 4, 140. ,  88, 2870, 18.1, 80, 1, b'\"ford fairmont\"'),\n",
       "       (24.3, 4, 151. ,  90, 3003, 20.1, 80, 1, b'\"amc concord\"'),\n",
       "       (19.1, 6, 225. ,  90, 3381, 18.7, 80, 1, b'\"dodge aspen\"'),\n",
       "       (34.3, 4,  97. ,  78, 2188, 15.8, 80, 2, b'\"audi 4000\"'),\n",
       "       (29.8, 4, 134. ,  90, 2711, 15.5, 80, 3, b'\"toyota corona liftback\"'),\n",
       "       (31.3, 4, 120. ,  75, 2542, 17.5, 80, 3, b'\"mazda 626\"'),\n",
       "       (37. , 4, 119. ,  92, 2434, 15. , 80, 3, b'\"datsun 510 hatchback\"'),\n",
       "       (32.2, 4, 108. ,  75, 2265, 15.2, 80, 3, b'\"toyota corolla\"'),\n",
       "       (46.6, 4,  86. ,  65, 2110, 17.9, 80, 3, b'\"mazda glc\"'),\n",
       "       (27.9, 4, 156. , 105, 2800, 14.4, 80, 1, b'\"dodge colt\"'),\n",
       "       (40.8, 4,  85. ,  65, 2110, 19.2, 80, 3, b'\"datsun 210\"'),\n",
       "       (44.3, 4,  90. ,  48, 2085, 21.7, 80, 2, b'\"vw rabbit c (diesel)\"'),\n",
       "       (43.4, 4,  90. ,  48, 2335, 23.7, 80, 2, b'\"vw dasher (diesel)\"'),\n",
       "       (36.4, 5, 121. ,  67, 2950, 19.9, 80, 2, b'\"audi 5000s (diesel)\"'),\n",
       "       (30. , 4, 146. ,  67, 3250, 21.8, 80, 2, b'\"mercedes-benz 240d\"'),\n",
       "       (44.6, 4,  91. ,  67, 1850, 13.8, 80, 3, b'\"honda civic 1500 gl\"'),\n",
       "       (33.8, 4,  97. ,  67, 2145, 18. , 80, 3, b'\"subaru dl\"'),\n",
       "       (29.8, 4,  89. ,  62, 1845, 15.3, 80, 2, b'\"vokswagen rabbit\"'),\n",
       "       (32.7, 6, 168. , 132, 2910, 11.4, 80, 3, b'\"datsun 280-zx\"'),\n",
       "       (23.7, 3,  70. , 100, 2420, 12.5, 80, 3, b'\"mazda rx-7 gs\"'),\n",
       "       (35. , 4, 122. ,  88, 2500, 15.1, 80, 2, b'\"triumph tr7 coupe\"'),\n",
       "       (32.4, 4, 107. ,  72, 2290, 17. , 80, 3, b'\"honda accord\"'),\n",
       "       (27.2, 4, 135. ,  84, 2490, 15.7, 81, 1, b'\"plymouth reliant\"'),\n",
       "       (26.6, 4, 151. ,  84, 2635, 16.4, 81, 1, b'\"buick skylark\"'),\n",
       "       (25.8, 4, 156. ,  92, 2620, 14.4, 81, 1, b'\"dodge aries wagon (sw)\"'),\n",
       "       (23.5, 6, 173. , 110, 2725, 12.6, 81, 1, b'\"chevrolet citation\"'),\n",
       "       (30. , 4, 135. ,  84, 2385, 12.9, 81, 1, b'\"plymouth reliant\"'),\n",
       "       (39.1, 4,  79. ,  58, 1755, 16.9, 81, 3, b'\"toyota starlet\"'),\n",
       "       (39. , 4,  86. ,  64, 1875, 16.4, 81, 1, b'\"plymouth champ\"'),\n",
       "       (35.1, 4,  81. ,  60, 1760, 16.1, 81, 3, b'\"honda civic 1300\"'),\n",
       "       (32.3, 4,  97. ,  67, 2065, 17.8, 81, 3, b'\"subaru\"'),\n",
       "       (37. , 4,  85. ,  65, 1975, 19.4, 81, 3, b'\"datsun 210 mpg\"'),\n",
       "       (37.7, 4,  89. ,  62, 2050, 17.3, 81, 3, b'\"toyota tercel\"'),\n",
       "       (34.1, 4,  91. ,  68, 1985, 16. , 81, 3, b'\"mazda glc 4\"'),\n",
       "       (34.7, 4, 105. ,  63, 2215, 14.9, 81, 1, b'\"plymouth horizon 4\"'),\n",
       "       (34.4, 4,  98. ,  65, 2045, 16.2, 81, 1, b'\"ford escort 4w\"'),\n",
       "       (29.9, 4,  98. ,  65, 2380, 20.7, 81, 1, b'\"ford escort 2h\"'),\n",
       "       (33. , 4, 105. ,  74, 2190, 14.2, 81, 2, b'\"volkswagen jetta\"'),\n",
       "       (33.7, 4, 107. ,  75, 2210, 14.4, 81, 3, b'\"honda prelude\"'),\n",
       "       (32.4, 4, 108. ,  75, 2350, 16.8, 81, 3, b'\"toyota corolla\"'),\n",
       "       (32.9, 4, 119. , 100, 2615, 14.8, 81, 3, b'\"datsun 200sx\"'),\n",
       "       (31.6, 4, 120. ,  74, 2635, 18.3, 81, 3, b'\"mazda 626\"'),\n",
       "       (28.1, 4, 141. ,  80, 3230, 20.4, 81, 2, b'\"peugeot 505s turbo diesel\"'),\n",
       "       (30.7, 6, 145. ,  76, 3160, 19.6, 81, 2, b'\"volvo diesel\"'),\n",
       "       (25.4, 6, 168. , 116, 2900, 12.6, 81, 3, b'\"toyota cressida\"'),\n",
       "       (24.2, 6, 146. , 120, 2930, 13.8, 81, 3, b'\"datsun 810 maxima\"'),\n",
       "       (22.4, 6, 231. , 110, 3415, 15.8, 81, 1, b'\"buick century\"'),\n",
       "       (26.6, 8, 350. , 105, 3725, 19. , 81, 1, b'\"oldsmobile cutlass ls\"'),\n",
       "       (20.2, 6, 200. ,  88, 3060, 17.1, 81, 1, b'\"ford granada gl\"'),\n",
       "       (17.6, 6, 225. ,  85, 3465, 16.6, 81, 1, b'\"chrysler lebaron salon\"'),\n",
       "       (28. , 4, 112. ,  88, 2605, 19.6, 82, 1, b'\"chevrolet cavalier\"'),\n",
       "       (27. , 4, 112. ,  88, 2640, 18.6, 82, 1, b'\"chevrolet cavalier wagon\"'),\n",
       "       (34. , 4, 112. ,  88, 2395, 18. , 82, 1, b'\"chevrolet cavalier 2-door\"'),\n",
       "       (31. , 4, 112. ,  85, 2575, 16.2, 82, 1, b'\"pontiac j2000 se hatchback\"'),\n",
       "       (29. , 4, 135. ,  84, 2525, 16. , 82, 1, b'\"dodge aries se\"'),\n",
       "       (27. , 4, 151. ,  90, 2735, 18. , 82, 1, b'\"pontiac phoenix\"'),\n",
       "       (24. , 4, 140. ,  92, 2865, 16.4, 82, 1, b'\"ford fairmont futura\"'),\n",
       "       (36. , 4, 105. ,  74, 1980, 15.3, 82, 2, b'\"volkswagen rabbit l\"'),\n",
       "       (37. , 4,  91. ,  68, 2025, 18.2, 82, 3, b'\"mazda glc custom l\"'),\n",
       "       (31. , 4,  91. ,  68, 1970, 17.6, 82, 3, b'\"mazda glc custom\"'),\n",
       "       (38. , 4, 105. ,  63, 2125, 14.7, 82, 1, b'\"plymouth horizon miser\"'),\n",
       "       (36. , 4,  98. ,  70, 2125, 17.3, 82, 1, b'\"mercury lynx l\"'),\n",
       "       (36. , 4, 120. ,  88, 2160, 14.5, 82, 3, b'\"nissan stanza xe\"'),\n",
       "       (36. , 4, 107. ,  75, 2205, 14.5, 82, 3, b'\"honda accord\"'),\n",
       "       (34. , 4, 108. ,  70, 2245, 16.9, 82, 3, b'\"toyota corolla\"'),\n",
       "       (38. , 4,  91. ,  67, 1965, 15. , 82, 3, b'\"honda civic\"'),\n",
       "       (32. , 4,  91. ,  67, 1965, 15.7, 82, 3, b'\"honda civic (auto)\"'),\n",
       "       (38. , 4,  91. ,  67, 1995, 16.2, 82, 3, b'\"datsun 310 gx\"'),\n",
       "       (25. , 6, 181. , 110, 2945, 16.4, 82, 1, b'\"buick century limited\"'),\n",
       "       (38. , 6, 262. ,  85, 3015, 17. , 82, 1, b'\"oldsmobile cutlass ciera (diesel)\"'),\n",
       "       (26. , 4, 156. ,  92, 2585, 14.5, 82, 1, b'\"chrysler lebaron medallion\"'),\n",
       "       (22. , 6, 232. , 112, 2835, 14.7, 82, 1, b'\"ford granada l\"'),\n",
       "       (32. , 4, 144. ,  96, 2665, 13.9, 82, 3, b'\"toyota celica gt\"'),\n",
       "       (36. , 4, 135. ,  84, 2370, 13. , 82, 1, b'\"dodge charger 2.2\"'),\n",
       "       (27. , 4, 151. ,  90, 2950, 17.3, 82, 1, b'\"chevrolet camaro\"'),\n",
       "       (27. , 4, 140. ,  86, 2790, 15.6, 82, 1, b'\"ford mustang gl\"'),\n",
       "       (44. , 4,  97. ,  52, 2130, 24.6, 82, 2, b'\"vw pickup\"'),\n",
       "       (32. , 4, 135. ,  84, 2295, 11.6, 82, 1, b'\"dodge rampage\"'),\n",
       "       (28. , 4, 120. ,  79, 2625, 18.6, 82, 1, b'\"ford ranger\"'),\n",
       "       (31. , 4, 119. ,  82, 2720, 19.4, 82, 1, b'\"chevy s-10\"')],\n",
       "      dtype=[('f0', '<f8'), ('f1', '<i4'), ('f2', '<f8'), ('f3', '<i4'), ('f4', '<i4'), ('f5', '<f8'), ('f6', '<i4'), ('f7', '<i4'), ('f8', 'S38')])"
      ]
     },
     "execution_count": 210,
     "metadata": {},
     "output_type": "execute_result"
    }
   ],
   "source": [
    "d2['arr_1']"
   ]
  },
  {
   "cell_type": "code",
   "execution_count": null,
   "metadata": {},
   "outputs": [],
   "source": []
  },
  {
   "cell_type": "markdown",
   "metadata": {},
   "source": [
    "##  concat with row and col wise"
   ]
  },
  {
   "cell_type": "code",
   "execution_count": 211,
   "metadata": {},
   "outputs": [],
   "source": [
    "arr1 = np.zeros([4, 4])\n",
    "arr2 = np.ones([4, 4])"
   ]
  },
  {
   "cell_type": "code",
   "execution_count": 212,
   "metadata": {},
   "outputs": [
    {
     "data": {
      "text/plain": [
       "array([[0., 0., 0., 0.],\n",
       "       [0., 0., 0., 0.],\n",
       "       [0., 0., 0., 0.],\n",
       "       [0., 0., 0., 0.]])"
      ]
     },
     "execution_count": 212,
     "metadata": {},
     "output_type": "execute_result"
    }
   ],
   "source": [
    "arr1"
   ]
  },
  {
   "cell_type": "code",
   "execution_count": 213,
   "metadata": {},
   "outputs": [
    {
     "data": {
      "text/plain": [
       "array([[1., 1., 1., 1.],\n",
       "       [1., 1., 1., 1.],\n",
       "       [1., 1., 1., 1.],\n",
       "       [1., 1., 1., 1.]])"
      ]
     },
     "execution_count": 213,
     "metadata": {},
     "output_type": "execute_result"
    }
   ],
   "source": [
    "arr2"
   ]
  },
  {
   "cell_type": "code",
   "execution_count": 214,
   "metadata": {},
   "outputs": [],
   "source": [
    "#np.concatenate, np.vstack, np.r_"
   ]
  },
  {
   "cell_type": "code",
   "execution_count": 219,
   "metadata": {},
   "outputs": [
    {
     "data": {
      "text/plain": [
       "array([[0., 0., 0., 0.],\n",
       "       [0., 0., 0., 0.],\n",
       "       [0., 0., 0., 0.],\n",
       "       [0., 0., 0., 0.],\n",
       "       [1., 1., 1., 1.],\n",
       "       [1., 1., 1., 1.],\n",
       "       [1., 1., 1., 1.],\n",
       "       [1., 1., 1., 1.]])"
      ]
     },
     "execution_count": 219,
     "metadata": {},
     "output_type": "execute_result"
    }
   ],
   "source": [
    "np.concatenate([arr1, arr2], axis = 0)\n",
    "np.vstack([arr1, arr2])\n",
    "np.r_[arr1, arr2]"
   ]
  },
  {
   "cell_type": "code",
   "execution_count": 220,
   "metadata": {},
   "outputs": [
    {
     "data": {
      "text/plain": [
       "array([[0., 0., 0., 0., 1., 1., 1., 1.],\n",
       "       [0., 0., 0., 0., 1., 1., 1., 1.],\n",
       "       [0., 0., 0., 0., 1., 1., 1., 1.],\n",
       "       [0., 0., 0., 0., 1., 1., 1., 1.]])"
      ]
     },
     "execution_count": 220,
     "metadata": {},
     "output_type": "execute_result"
    }
   ],
   "source": [
    "np.concatenate([arr1, arr2], axis = 1)"
   ]
  },
  {
   "cell_type": "code",
   "execution_count": 221,
   "metadata": {},
   "outputs": [
    {
     "data": {
      "text/plain": [
       "array([[0., 0., 0., 0., 1., 1., 1., 1.],\n",
       "       [0., 0., 0., 0., 1., 1., 1., 1.],\n",
       "       [0., 0., 0., 0., 1., 1., 1., 1.],\n",
       "       [0., 0., 0., 0., 1., 1., 1., 1.]])"
      ]
     },
     "execution_count": 221,
     "metadata": {},
     "output_type": "execute_result"
    }
   ],
   "source": [
    "np.hstack([arr1, arr2])"
   ]
  },
  {
   "cell_type": "code",
   "execution_count": 222,
   "metadata": {},
   "outputs": [
    {
     "data": {
      "text/plain": [
       "array([[0., 0., 0., 0., 1., 1., 1., 1.],\n",
       "       [0., 0., 0., 0., 1., 1., 1., 1.],\n",
       "       [0., 0., 0., 0., 1., 1., 1., 1.],\n",
       "       [0., 0., 0., 0., 1., 1., 1., 1.]])"
      ]
     },
     "execution_count": 222,
     "metadata": {},
     "output_type": "execute_result"
    }
   ],
   "source": [
    "np.c_[arr1, arr2]"
   ]
  },
  {
   "cell_type": "code",
   "execution_count": null,
   "metadata": {},
   "outputs": [],
   "source": []
  },
  {
   "cell_type": "markdown",
   "metadata": {},
   "source": [
    "## sort a numpy array "
   ]
  },
  {
   "cell_type": "code",
   "execution_count": 223,
   "metadata": {},
   "outputs": [],
   "source": [
    "arr = np.random.randint(1, 10, size = [10, 5])"
   ]
  },
  {
   "cell_type": "code",
   "execution_count": 224,
   "metadata": {},
   "outputs": [
    {
     "data": {
      "text/plain": [
       "array([[3, 5, 6, 3, 5],\n",
       "       [3, 5, 8, 8, 2],\n",
       "       [8, 1, 7, 8, 7],\n",
       "       [2, 1, 2, 9, 9],\n",
       "       [4, 9, 8, 4, 7],\n",
       "       [6, 2, 4, 5, 9],\n",
       "       [2, 5, 1, 4, 3],\n",
       "       [1, 5, 3, 8, 8],\n",
       "       [9, 7, 4, 8, 8],\n",
       "       [5, 6, 4, 7, 9]])"
      ]
     },
     "execution_count": 224,
     "metadata": {},
     "output_type": "execute_result"
    }
   ],
   "source": [
    "arr"
   ]
  },
  {
   "cell_type": "code",
   "execution_count": 226,
   "metadata": {},
   "outputs": [
    {
     "data": {
      "text/plain": [
       "array([[1, 1, 1, 3, 2],\n",
       "       [2, 1, 2, 4, 3],\n",
       "       [2, 2, 3, 4, 5],\n",
       "       [3, 5, 4, 5, 7],\n",
       "       [3, 5, 4, 7, 7],\n",
       "       [4, 5, 4, 8, 8],\n",
       "       [5, 5, 6, 8, 8],\n",
       "       [6, 6, 7, 8, 9],\n",
       "       [8, 7, 8, 8, 9],\n",
       "       [9, 9, 8, 9, 9]])"
      ]
     },
     "execution_count": 226,
     "metadata": {},
     "output_type": "execute_result"
    }
   ],
   "source": [
    "np.sort(arr, axis = 0)"
   ]
  },
  {
   "cell_type": "code",
   "execution_count": null,
   "metadata": {},
   "outputs": [],
   "source": []
  },
  {
   "cell_type": "code",
   "execution_count": 230,
   "metadata": {},
   "outputs": [],
   "source": [
    "sorted_index = arr[:, 0].argsort()"
   ]
  },
  {
   "cell_type": "code",
   "execution_count": 231,
   "metadata": {},
   "outputs": [
    {
     "data": {
      "text/plain": [
       "array([[1, 5, 3, 8, 8],\n",
       "       [2, 1, 2, 9, 9],\n",
       "       [2, 5, 1, 4, 3],\n",
       "       [3, 5, 6, 3, 5],\n",
       "       [3, 5, 8, 8, 2],\n",
       "       [4, 9, 8, 4, 7],\n",
       "       [5, 6, 4, 7, 9],\n",
       "       [6, 2, 4, 5, 9],\n",
       "       [8, 1, 7, 8, 7],\n",
       "       [9, 7, 4, 8, 8]])"
      ]
     },
     "execution_count": 231,
     "metadata": {},
     "output_type": "execute_result"
    }
   ],
   "source": [
    "arr[sorted_index]"
   ]
  },
  {
   "cell_type": "code",
   "execution_count": 232,
   "metadata": {},
   "outputs": [
    {
     "data": {
      "text/plain": [
       "array([[3, 5, 6, 3, 5],\n",
       "       [3, 5, 8, 8, 2],\n",
       "       [8, 1, 7, 8, 7],\n",
       "       [2, 1, 2, 9, 9],\n",
       "       [4, 9, 8, 4, 7],\n",
       "       [6, 2, 4, 5, 9],\n",
       "       [2, 5, 1, 4, 3],\n",
       "       [1, 5, 3, 8, 8],\n",
       "       [9, 7, 4, 8, 8],\n",
       "       [5, 6, 4, 7, 9]])"
      ]
     },
     "execution_count": 232,
     "metadata": {},
     "output_type": "execute_result"
    }
   ],
   "source": [
    "arr"
   ]
  },
  {
   "cell_type": "code",
   "execution_count": null,
   "metadata": {},
   "outputs": [],
   "source": []
  },
  {
   "cell_type": "markdown",
   "metadata": {},
   "source": [
    "# working with dates"
   ]
  },
  {
   "cell_type": "code",
   "execution_count": 235,
   "metadata": {},
   "outputs": [],
   "source": [
    "d = np.datetime64('2019-06-02 23:10:00')"
   ]
  },
  {
   "cell_type": "code",
   "execution_count": 236,
   "metadata": {},
   "outputs": [
    {
     "data": {
      "text/plain": [
       "numpy.datetime64('2019-06-02T23:10:00')"
      ]
     },
     "execution_count": 236,
     "metadata": {},
     "output_type": "execute_result"
    }
   ],
   "source": [
    "d"
   ]
  },
  {
   "cell_type": "code",
   "execution_count": 240,
   "metadata": {},
   "outputs": [
    {
     "data": {
      "text/plain": [
       "numpy.datetime64('2019-06-02T23:26:40')"
      ]
     },
     "execution_count": 240,
     "metadata": {},
     "output_type": "execute_result"
    }
   ],
   "source": [
    "d + 1000"
   ]
  },
  {
   "cell_type": "code",
   "execution_count": 241,
   "metadata": {},
   "outputs": [
    {
     "data": {
      "text/plain": [
       "1000"
      ]
     },
     "execution_count": 241,
     "metadata": {},
     "output_type": "execute_result"
    }
   ],
   "source": [
    "16*60+40"
   ]
  },
  {
   "cell_type": "code",
   "execution_count": 243,
   "metadata": {},
   "outputs": [],
   "source": [
    "oneday = np.timedelta64(1, 'D')"
   ]
  },
  {
   "cell_type": "code",
   "execution_count": 244,
   "metadata": {},
   "outputs": [
    {
     "data": {
      "text/plain": [
       "numpy.timedelta64(1,'D')"
      ]
     },
     "execution_count": 244,
     "metadata": {},
     "output_type": "execute_result"
    }
   ],
   "source": [
    "oneday"
   ]
  },
  {
   "cell_type": "code",
   "execution_count": 245,
   "metadata": {},
   "outputs": [
    {
     "data": {
      "text/plain": [
       "numpy.datetime64('2019-06-03T23:10:00')"
      ]
     },
     "execution_count": 245,
     "metadata": {},
     "output_type": "execute_result"
    }
   ],
   "source": [
    "d + oneday"
   ]
  },
  {
   "cell_type": "code",
   "execution_count": 246,
   "metadata": {},
   "outputs": [],
   "source": [
    "oneminute = np.timedelta64(1, 'm')"
   ]
  },
  {
   "cell_type": "code",
   "execution_count": 247,
   "metadata": {},
   "outputs": [
    {
     "data": {
      "text/plain": [
       "numpy.datetime64('2019-06-02T23:11:00')"
      ]
     },
     "execution_count": 247,
     "metadata": {},
     "output_type": "execute_result"
    }
   ],
   "source": [
    "d + oneminute"
   ]
  },
  {
   "cell_type": "code",
   "execution_count": null,
   "metadata": {},
   "outputs": [],
   "source": []
  },
  {
   "cell_type": "code",
   "execution_count": 249,
   "metadata": {},
   "outputs": [
    {
     "data": {
      "text/plain": [
       "array(['2019-06-02', '2019-06-04', '2019-06-06', '2019-06-08',\n",
       "       '2019-06-10', '2019-06-12', '2019-06-14', '2019-06-16',\n",
       "       '2019-06-18', '2019-06-20', '2019-06-22', '2019-06-24',\n",
       "       '2019-06-26', '2019-06-28', '2019-06-30', '2019-07-02',\n",
       "       '2019-07-04', '2019-07-06', '2019-07-08', '2019-07-10',\n",
       "       '2019-07-12', '2019-07-14', '2019-07-16', '2019-07-18',\n",
       "       '2019-07-20', '2019-07-22', '2019-07-24', '2019-07-26',\n",
       "       '2019-07-28', '2019-07-30', '2019-08-01', '2019-08-03',\n",
       "       '2019-08-05', '2019-08-07', '2019-08-09', '2019-08-11',\n",
       "       '2019-08-13', '2019-08-15', '2019-08-17', '2019-08-19',\n",
       "       '2019-08-21', '2019-08-23', '2019-08-25', '2019-08-27',\n",
       "       '2019-08-29', '2019-08-31', '2019-09-02', '2019-09-04',\n",
       "       '2019-09-06', '2019-09-08', '2019-09-10', '2019-09-12',\n",
       "       '2019-09-14', '2019-09-16', '2019-09-18', '2019-09-20',\n",
       "       '2019-09-22', '2019-09-24', '2019-09-26', '2019-09-28',\n",
       "       '2019-09-30', '2019-10-02', '2019-10-04', '2019-10-06',\n",
       "       '2019-10-08', '2019-10-10', '2019-10-12', '2019-10-14',\n",
       "       '2019-10-16', '2019-10-18', '2019-10-20', '2019-10-22',\n",
       "       '2019-10-24', '2019-10-26', '2019-10-28', '2019-10-30',\n",
       "       '2019-11-01', '2019-11-03', '2019-11-05', '2019-11-07',\n",
       "       '2019-11-09', '2019-11-11', '2019-11-13', '2019-11-15',\n",
       "       '2019-11-17', '2019-11-19', '2019-11-21', '2019-11-23',\n",
       "       '2019-11-25', '2019-11-27', '2019-11-29', '2019-12-01',\n",
       "       '2019-12-03', '2019-12-05', '2019-12-07', '2019-12-09',\n",
       "       '2019-12-11', '2019-12-13', '2019-12-15', '2019-12-17',\n",
       "       '2019-12-19', '2019-12-21', '2019-12-23', '2019-12-25',\n",
       "       '2019-12-27', '2019-12-29', '2019-12-31', '2020-01-02',\n",
       "       '2020-01-04', '2020-01-06', '2020-01-08', '2020-01-10',\n",
       "       '2020-01-12', '2020-01-14', '2020-01-16', '2020-01-18',\n",
       "       '2020-01-20', '2020-01-22', '2020-01-24', '2020-01-26',\n",
       "       '2020-01-28', '2020-01-30', '2020-02-01', '2020-02-03',\n",
       "       '2020-02-05', '2020-02-07', '2020-02-09', '2020-02-11',\n",
       "       '2020-02-13', '2020-02-15', '2020-02-17', '2020-02-19',\n",
       "       '2020-02-21', '2020-02-23', '2020-02-25', '2020-02-27',\n",
       "       '2020-02-29', '2020-03-02', '2020-03-04', '2020-03-06',\n",
       "       '2020-03-08', '2020-03-10', '2020-03-12', '2020-03-14',\n",
       "       '2020-03-16', '2020-03-18', '2020-03-20', '2020-03-22',\n",
       "       '2020-03-24', '2020-03-26', '2020-03-28', '2020-03-30',\n",
       "       '2020-04-01', '2020-04-03', '2020-04-05', '2020-04-07',\n",
       "       '2020-04-09', '2020-04-11', '2020-04-13', '2020-04-15',\n",
       "       '2020-04-17', '2020-04-19', '2020-04-21', '2020-04-23',\n",
       "       '2020-04-25', '2020-04-27', '2020-04-29', '2020-05-01',\n",
       "       '2020-05-03', '2020-05-05', '2020-05-07', '2020-05-09',\n",
       "       '2020-05-11', '2020-05-13', '2020-05-15', '2020-05-17',\n",
       "       '2020-05-19', '2020-05-21', '2020-05-23', '2020-05-25',\n",
       "       '2020-05-27', '2020-05-29', '2020-05-31'], dtype='datetime64[D]')"
      ]
     },
     "execution_count": 249,
     "metadata": {},
     "output_type": "execute_result"
    }
   ],
   "source": [
    "dates = np.arange(np.datetime64('2019-06-02'), np.datetime64('2020-06-02'), 2)\n",
    "dates"
   ]
  },
  {
   "cell_type": "code",
   "execution_count": null,
   "metadata": {},
   "outputs": [],
   "source": []
  },
  {
   "cell_type": "markdown",
   "metadata": {},
   "source": [
    "## Numpy Advanced Function"
   ]
  },
  {
   "cell_type": "code",
   "execution_count": 250,
   "metadata": {},
   "outputs": [],
   "source": [
    "#vectorize()"
   ]
  },
  {
   "cell_type": "code",
   "execution_count": 252,
   "metadata": {},
   "outputs": [
    {
     "data": {
      "text/plain": [
       "121"
      ]
     },
     "execution_count": 252,
     "metadata": {},
     "output_type": "execute_result"
    }
   ],
   "source": [
    "def foo(x):\n",
    "    if x%2 == 1:\n",
    "        return x**2\n",
    "    else:\n",
    "        return x/2\n",
    "\n",
    "foo(11)"
   ]
  },
  {
   "cell_type": "code",
   "execution_count": null,
   "metadata": {},
   "outputs": [],
   "source": []
  },
  {
   "cell_type": "code",
   "execution_count": 253,
   "metadata": {},
   "outputs": [],
   "source": [
    "foo_v = np.vectorize(foo, otypes=[float])\n"
   ]
  },
  {
   "cell_type": "code",
   "execution_count": 254,
   "metadata": {},
   "outputs": [
    {
     "data": {
      "text/plain": [
       "array([[3, 5, 6, 3, 5],\n",
       "       [3, 5, 8, 8, 2],\n",
       "       [8, 1, 7, 8, 7],\n",
       "       [2, 1, 2, 9, 9],\n",
       "       [4, 9, 8, 4, 7],\n",
       "       [6, 2, 4, 5, 9],\n",
       "       [2, 5, 1, 4, 3],\n",
       "       [1, 5, 3, 8, 8],\n",
       "       [9, 7, 4, 8, 8],\n",
       "       [5, 6, 4, 7, 9]])"
      ]
     },
     "execution_count": 254,
     "metadata": {},
     "output_type": "execute_result"
    }
   ],
   "source": [
    "arr"
   ]
  },
  {
   "cell_type": "code",
   "execution_count": 255,
   "metadata": {},
   "outputs": [
    {
     "data": {
      "text/plain": [
       "array([[ 9., 25.,  3.,  9., 25.],\n",
       "       [ 9., 25.,  4.,  4.,  1.],\n",
       "       [ 4.,  1., 49.,  4., 49.],\n",
       "       [ 1.,  1.,  1., 81., 81.],\n",
       "       [ 2., 81.,  4.,  2., 49.],\n",
       "       [ 3.,  1.,  2., 25., 81.],\n",
       "       [ 1., 25.,  1.,  2.,  9.],\n",
       "       [ 1., 25.,  9.,  4.,  4.],\n",
       "       [81., 49.,  2.,  4.,  4.],\n",
       "       [25.,  3.,  2., 49., 81.]])"
      ]
     },
     "execution_count": 255,
     "metadata": {},
     "output_type": "execute_result"
    }
   ],
   "source": [
    "foo_v(arr)"
   ]
  },
  {
   "cell_type": "code",
   "execution_count": null,
   "metadata": {},
   "outputs": [],
   "source": []
  },
  {
   "cell_type": "code",
   "execution_count": null,
   "metadata": {},
   "outputs": [],
   "source": []
  },
  {
   "cell_type": "code",
   "execution_count": null,
   "metadata": {},
   "outputs": [],
   "source": []
  },
  {
   "cell_type": "code",
   "execution_count": null,
   "metadata": {},
   "outputs": [],
   "source": []
  },
  {
   "cell_type": "code",
   "execution_count": null,
   "metadata": {},
   "outputs": [],
   "source": []
  },
  {
   "cell_type": "code",
   "execution_count": null,
   "metadata": {},
   "outputs": [],
   "source": []
  },
  {
   "cell_type": "code",
   "execution_count": null,
   "metadata": {},
   "outputs": [],
   "source": []
  },
  {
   "cell_type": "code",
   "execution_count": null,
   "metadata": {},
   "outputs": [],
   "source": []
  },
  {
   "cell_type": "code",
   "execution_count": null,
   "metadata": {},
   "outputs": [],
   "source": []
  },
  {
   "cell_type": "code",
   "execution_count": null,
   "metadata": {},
   "outputs": [],
   "source": []
  },
  {
   "cell_type": "code",
   "execution_count": null,
   "metadata": {},
   "outputs": [],
   "source": []
  },
  {
   "cell_type": "code",
   "execution_count": null,
   "metadata": {},
   "outputs": [],
   "source": []
  },
  {
   "cell_type": "code",
   "execution_count": null,
   "metadata": {},
   "outputs": [],
   "source": []
  },
  {
   "cell_type": "code",
   "execution_count": null,
   "metadata": {},
   "outputs": [],
   "source": []
  },
  {
   "cell_type": "code",
   "execution_count": null,
   "metadata": {},
   "outputs": [],
   "source": []
  },
  {
   "cell_type": "code",
   "execution_count": null,
   "metadata": {},
   "outputs": [],
   "source": []
  },
  {
   "cell_type": "code",
   "execution_count": null,
   "metadata": {},
   "outputs": [],
   "source": []
  },
  {
   "cell_type": "code",
   "execution_count": null,
   "metadata": {},
   "outputs": [],
   "source": []
  },
  {
   "cell_type": "code",
   "execution_count": null,
   "metadata": {},
   "outputs": [],
   "source": []
  },
  {
   "cell_type": "code",
   "execution_count": null,
   "metadata": {},
   "outputs": [],
   "source": []
  },
  {
   "cell_type": "code",
   "execution_count": null,
   "metadata": {},
   "outputs": [],
   "source": []
  },
  {
   "cell_type": "code",
   "execution_count": null,
   "metadata": {},
   "outputs": [],
   "source": []
  },
  {
   "cell_type": "code",
   "execution_count": null,
   "metadata": {},
   "outputs": [],
   "source": []
  },
  {
   "cell_type": "code",
   "execution_count": null,
   "metadata": {},
   "outputs": [],
   "source": []
  }
 ],
 "metadata": {
  "kernelspec": {
   "display_name": "Python 3",
   "language": "python",
   "name": "python3"
  },
  "language_info": {
   "codemirror_mode": {
    "name": "ipython",
    "version": 3
   },
   "file_extension": ".py",
   "mimetype": "text/x-python",
   "name": "python",
   "nbconvert_exporter": "python",
   "pygments_lexer": "ipython3",
   "version": "3.7.1"
  }
 },
 "nbformat": 4,
 "nbformat_minor": 2
}
